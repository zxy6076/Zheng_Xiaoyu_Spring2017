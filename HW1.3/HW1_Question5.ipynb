{
 "cells": [
  {
   "cell_type": "markdown",
   "metadata": {},
   "source": [
    "# Question5\n",
    "Use Gutenberg and Web_text data. Find out what are the top 5 words that Shakespeare used but we do not use in currently.\n",
    "Take top 50 words from Shakespeare (all 3 books) and top 50 from Web_text (all the records).\n",
    "Remove punctuation and stop words.\n",
    "Remove the words we still use today, and get the unused list. Show the top 5 elements. \n"
   ]
  },
  {
   "cell_type": "code",
   "execution_count": 1,
   "metadata": {
    "collapsed": false
   },
   "outputs": [],
   "source": [
    "import nltk\n",
    "#nltk.corpus.webtext.fileids()\n",
    "#nltk.corpus.gutenberg.fileids()"
   ]
  },
  {
   "cell_type": "code",
   "execution_count": 2,
   "metadata": {
    "collapsed": false
   },
   "outputs": [
    {
     "name": "stdout",
     "output_type": "stream",
     "text": [
      "['haue', 'ham', 'thou', 'shall', 'lord', 'come', 'king', 'enter', 'good', 'let', 'thy', 'caesar', 'vs', 'know', 'thee', 'would', 'vpon', 'like', 'brutus', 'bru', 'well', 'hath', 'selfe', 'man', 'may', 'macb', 'yet', 'heere', 'say', 'must', 'tis', 'th', 'loue', 'make', 'speake', 'giue', 'see', 'time', 'sir', 'night', 'one', 'st', 'cassi']\n",
      "['girl', 'guy', '1', '2', 'like', 'man', 'know', 'woman', 'yeah', 'page', 'firefox', 'get', 'new', 'chick', 'one', 'oh', 'open', 'window', 'good', 'bookmarks', 'teen', 'well', 'firebird', 'cell', 'right', 'go', 'work', 'bar', 'menu', 'tab', 'lady', 'toolbar', 'boy', 'want', 'think']\n"
     ]
    }
   ],
   "source": [
    "from string import punctuation\n",
    "from collections import Counter\n",
    "\n",
    "stop_words = set(nltk.corpus.stopwords.words('english'))   # get stopwords\n",
    "shake_list = nltk.corpus.gutenberg.fileids()\n",
    "deal_list = nltk.corpus.webtext.fileids()\n",
    "shake_counter = Counter()\n",
    "deal_counter = Counter()\n",
    "\n",
    "for book in shake_list:   #to get 3 books of shakespeare`s\n",
    "    if not book.startswith('shakespeare'):\n",
    "        continue\n",
    "    else:\n",
    "        for word in nltk.corpus.gutenberg.words(book):\n",
    "            word = word.lower()\n",
    "            if word not in stop_words:\n",
    "                shake_counter.update([word])\n",
    "for book in deal_list:\n",
    "    for word in  nltk.corpus.webtext.words(book):\n",
    "        word = word.lower()\n",
    "        if word not in stop_words:\n",
    "            deal_counter.update([word])\n",
    "\n",
    "shake_list = [i for i,_ in shake_counter.most_common(50)] #just need the left value of the tuple--the words\n",
    "deal_list = [i for i,_ in deal_counter.most_common(50)]\n",
    "\n",
    "shake_list = [''.join(i for i in j if i not in punctuation) for j in shake_list]\n",
    "deal_list = [''.join(i for i in j if i not in punctuation) for j in deal_list] \n",
    "\n",
    "shake_list = [i for i in shake_list if i ]\n",
    "deal_list = [i for i in deal_list if i ]\n",
    "\n",
    "print(shake_list)\n",
    "print(deal_list)"
   ]
  },
  {
   "cell_type": "code",
   "execution_count": 3,
   "metadata": {
    "collapsed": false
   },
   "outputs": [
    {
     "name": "stdout",
     "output_type": "stream",
     "text": [
      "haue\n",
      "ham\n",
      "thou\n",
      "shall\n",
      "lord\n"
     ]
    }
   ],
   "source": [
    "final_list = [i for i in shake_list if i not in deal_list] # get the words which shake use but we do not use\n",
    "count = 0\n",
    "for i,_ in shake_counter.most_common(50):\n",
    "    if i in final_list:\n",
    "        print(i)\n",
    "        count +=1\n",
    "    if count == 5:\n",
    "        break\n"
   ]
  },
  {
   "cell_type": "code",
   "execution_count": null,
   "metadata": {
    "collapsed": true
   },
   "outputs": [],
   "source": []
  }
 ],
 "metadata": {
  "anaconda-cloud": {},
  "kernelspec": {
   "display_name": "Python [default]",
   "language": "python",
   "name": "python3"
  },
  "language_info": {
   "codemirror_mode": {
    "name": "ipython",
    "version": 3
   },
   "file_extension": ".py",
   "mimetype": "text/x-python",
   "name": "python",
   "nbconvert_exporter": "python",
   "pygments_lexer": "ipython3",
   "version": "3.5.2"
  }
 },
 "nbformat": 4,
 "nbformat_minor": 2
}
