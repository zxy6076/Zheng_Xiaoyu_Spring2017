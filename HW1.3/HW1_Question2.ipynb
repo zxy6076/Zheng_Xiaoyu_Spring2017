{
 "cells": [
  {
   "cell_type": "markdown",
   "metadata": {},
   "source": [
    "#  Question2\n",
    "Under package Gutenberg get content from file 'melville-moby_dick.txt.' (HINT: Words? Raw?)\n",
    "Find out frequency of 26 characters. (Turn uppercase into lowercase and count as one character)\n",
    "List all 26 characters in order base on their frequency. (From most frequent to least frequent)\u000b",
    "Try NOT to use FreqDist module.\n"
   ]
  },
  {
   "cell_type": "code",
   "execution_count": 1,
   "metadata": {
    "collapsed": false
   },
   "outputs": [],
   "source": [
    "import nltk\n",
    "#nltk.corpus.gutenberg.fileids()"
   ]
  },
  {
   "cell_type": "code",
   "execution_count": 8,
   "metadata": {
    "collapsed": false
   },
   "outputs": [
    {
     "name": "stdout",
     "output_type": "stream",
     "text": [
      "[('e', 117092), ('t', 87996), ('a', 77916), ('o', 69326), ('n', 65617), ('i', 65434), ('s', 64231), ('h', 62896), ('r', 52134), ('l', 42793), ('d', 38219), ('u', 26697), ('m', 23277), ('c', 22507), ('w', 22222), ('f', 20833), ('g', 20820), ('p', 17255), ('b', 16877), ('y', 16872), ('v', 8598), ('k', 8059), ('q', 1556), ('j', 1082), ('x', 1030), ('z', 632)]\n"
     ]
    }
   ],
   "source": [
    "import string\n",
    "melville_moby_dick = nltk.corpus.gutenberg.raw('melville-moby_dick.txt')\n",
    "#type(melville_moby_dick)\n",
    "m_dict = {}           #using dic to delete reocurrence\n",
    "for x in list(string.ascii_lowercase): #using  list  because that we know the 26 character \n",
    "    m_dict[x] = 0      #set all the character to zero\n",
    "for m in melville_moby_dick:    #all below similiar to the question1\n",
    "    if m.lower() in 'abcdefghijklmnopqrstuvwxyz':\n",
    "        m_dict[m.lower()] +=1\n",
    "#print(m_dict)\n",
    "clear_dict = sorted(m_dict.items(),key = lambda item:item[1],reverse=True)\n",
    "\n",
    "print(clear_dict)"
   ]
  },
  {
   "cell_type": "code",
   "execution_count": null,
   "metadata": {
    "collapsed": true
   },
   "outputs": [],
   "source": []
  }
 ],
 "metadata": {
  "anaconda-cloud": {},
  "kernelspec": {
   "display_name": "Python [conda env:NEUPython]",
   "language": "python",
   "name": "conda-env-NEUPython-py"
  },
  "language_info": {
   "codemirror_mode": {
    "name": "ipython",
    "version": 3
   },
   "file_extension": ".py",
   "mimetype": "text/x-python",
   "name": "python",
   "nbconvert_exporter": "python",
   "pygments_lexer": "ipython3",
   "version": "3.5.2"
  }
 },
 "nbformat": 4,
 "nbformat_minor": 2
}
