{
 "cells": [
  {
   "cell_type": "markdown",
   "metadata": {},
   "source": [
    "# Quesion4\n",
    "Under package nps_chat, see what files are in it.\n",
    "Find 'user121' and see how many posts he posted in all.\n",
    "Find out how many unique user in each age range group. (20s, 30s,...)(Hint: files' name)\n"
   ]
  },
  {
   "cell_type": "code",
   "execution_count": 1,
   "metadata": {
    "collapsed": false
   },
   "outputs": [],
   "source": [
    "import nltk\n",
    "#nltk.corpus.nps_chat.fileids()\n"
   ]
  },
  {
   "cell_type": "code",
   "execution_count": 2,
   "metadata": {
    "collapsed": false
   },
   "outputs": [
    {
     "name": "stdout",
     "output_type": "stream",
     "text": [
      "132\n"
     ]
    }
   ],
   "source": [
    "import nltk.corpus.reader.nps_chat\n",
    "count = 0\n",
    "for user in nltk.corpus.nps_chat.xml_posts():\n",
    "    if user.get('user').endswith('User121'):\n",
    "        count += 1\n",
    "print(count)"
   ]
  },
  {
   "cell_type": "code",
   "execution_count": 3,
   "metadata": {
    "collapsed": false
   },
   "outputs": [
    {
     "name": "stdout",
     "output_type": "stream",
     "text": [
      "{'40sUser': 228, 'adultsU': 357, '30sUser': 44, 'teensUs': 443, '20sUser': 305}\n"
     ]
    }
   ],
   "source": [
    "user_list = []\n",
    "for user in nltk.corpus.nps_chat.xml_posts():\n",
    "    user_list.append(user.get('user'))\n",
    "user_set = set(user_list)\n",
    "#print(len(user_set))\n",
    "age_dict = {}\n",
    "for user in user_set:\n",
    "    key = user[6:13]\n",
    "    if key in age_dict:\n",
    "        age_dict[key] +=1\n",
    "    else:\n",
    "        age_dict[key] = 1\n",
    "\n",
    "print(age_dict)"
   ]
  },
  {
   "cell_type": "code",
   "execution_count": null,
   "metadata": {
    "collapsed": true
   },
   "outputs": [],
   "source": []
  }
 ],
 "metadata": {
  "anaconda-cloud": {},
  "kernelspec": {
   "display_name": "Python [conda env:NEUPython]",
   "language": "python",
   "name": "conda-env-NEUPython-py"
  },
  "language_info": {
   "codemirror_mode": {
    "name": "ipython",
    "version": 3
   },
   "file_extension": ".py",
   "mimetype": "text/x-python",
   "name": "python",
   "nbconvert_exporter": "python",
   "pygments_lexer": "ipython3",
   "version": "3.5.2"
  }
 },
 "nbformat": 4,
 "nbformat_minor": 2
}
