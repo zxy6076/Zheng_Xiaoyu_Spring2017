{
 "cells": [
  {
   "cell_type": "markdown",
   "metadata": {},
   "source": [
    "# Question2_part2\n",
    "\n",
    "Read all the json files in the folder called Data.\n",
    "    1.Read only the json files which contain the key called “restaurants”\n",
    "    2.Each (or most of the json files) contain a key called “open” which contains the details of the operation (timings) of the restaurants. For each json file, read the timings of the restaurants.\n",
    "    3.Data of the operation timings of the restaurants is present for each day of the week. I want you to extract each of this data and write it in an excel sheet.\n",
    "        3.1Example:\n",
    "            For a particular restaurant named “The Coffee Grounds”, the excel sheet should look like this:\n",
    "    4.Bonus: Split “Start Time” column into two different columns having the hour and minute in each of them .-----Split “End Time” column into two different columns having the hour and minute in each of them"
   ]
  },
  {
   "cell_type": "code",
   "execution_count": 16,
   "metadata": {
    "collapsed": true
   },
   "outputs": [],
   "source": [
    "import glob\n",
    "import json\n",
    "import csv\n",
    "# -*- coding: utf-8 -*-"
   ]
  },
  {
   "cell_type": "code",
   "execution_count": 17,
   "metadata": {
    "collapsed": true
   },
   "outputs": [],
   "source": [
    "files = glob.glob(r'E:\\Anaconda3\\envs\\NEUPython\\HW2\\Data\\*.json')    #   r'E:\\Anaconda3\\envs\\NEUPython\\HW2\\Data\\*.json'\n",
    "csv_outpath = r'E:\\Anaconda3\\envs\\NEUPython\\HW2\\open_hours.csv'"
   ]
  },
  {
   "cell_type": "code",
   "execution_count": 18,
   "metadata": {
    "collapsed": false
   },
   "outputs": [
    {
     "ename": "UnicodeEncodeError",
     "evalue": "'gbk' codec can't encode character '\\xf1' in position 1: illegal multibyte sequence",
     "output_type": "error",
     "traceback": [
      "\u001b[0;31m---------------------------------------------------------------------------\u001b[0m",
      "\u001b[0;31mUnicodeEncodeError\u001b[0m                        Traceback (most recent call last)",
      "\u001b[0;32m<ipython-input-18-448837138552>\u001b[0m in \u001b[0;36m<module>\u001b[0;34m()\u001b[0m\n\u001b[1;32m     27\u001b[0m                         \u001b[0mEM\u001b[0m \u001b[1;33m=\u001b[0m \u001b[0mday\u001b[0m\u001b[1;33m[\u001b[0m\u001b[1;34m'end'\u001b[0m\u001b[1;33m]\u001b[0m\u001b[1;33m[\u001b[0m\u001b[1;36m2\u001b[0m\u001b[1;33m:\u001b[0m\u001b[1;33m]\u001b[0m\u001b[1;33m\u001b[0m\u001b[0m\n\u001b[1;32m     28\u001b[0m \u001b[1;33m\u001b[0m\u001b[0m\n\u001b[0;32m---> 29\u001b[0;31m                         \u001b[0mcsv_writer\u001b[0m\u001b[1;33m.\u001b[0m\u001b[0mwriterow\u001b[0m\u001b[1;33m(\u001b[0m\u001b[1;33m{\u001b[0m\u001b[1;34m'Name of restaurant'\u001b[0m\u001b[1;33m:\u001b[0m\u001b[0mname\u001b[0m\u001b[1;33m,\u001b[0m \u001b[1;34m'City'\u001b[0m\u001b[1;33m:\u001b[0m\u001b[0mcity\u001b[0m\u001b[1;33m,\u001b[0m \u001b[1;34m'Countty Code'\u001b[0m\u001b[1;33m:\u001b[0m\u001b[0mcity\u001b[0m\u001b[1;33m,\u001b[0m \u001b[1;34m'Day of Week'\u001b[0m\u001b[1;33m:\u001b[0m\u001b[0mDOW\u001b[0m\u001b[1;33m,\u001b[0m\u001b[1;34m'Start Time Hour'\u001b[0m\u001b[1;33m:\u001b[0m\u001b[0mSH\u001b[0m\u001b[1;33m,\u001b[0m \u001b[1;34m'Start Time Minute'\u001b[0m\u001b[1;33m:\u001b[0m\u001b[0mSM\u001b[0m\u001b[1;33m,\u001b[0m\u001b[1;34m'End Time Hour'\u001b[0m\u001b[1;33m:\u001b[0m\u001b[0mEH\u001b[0m\u001b[1;33m,\u001b[0m \u001b[1;34m'End Time Minute'\u001b[0m\u001b[1;33m:\u001b[0m\u001b[0mEM\u001b[0m\u001b[1;33m}\u001b[0m\u001b[1;33m)\u001b[0m\u001b[1;33m\u001b[0m\u001b[0m\n\u001b[0m",
      "\u001b[0;32mE:\\Anaconda3\\envs\\NEUPython\\lib\\csv.py\u001b[0m in \u001b[0;36mwriterow\u001b[0;34m(self, rowdict)\u001b[0m\n\u001b[1;32m    151\u001b[0m \u001b[1;33m\u001b[0m\u001b[0m\n\u001b[1;32m    152\u001b[0m     \u001b[1;32mdef\u001b[0m \u001b[0mwriterow\u001b[0m\u001b[1;33m(\u001b[0m\u001b[0mself\u001b[0m\u001b[1;33m,\u001b[0m \u001b[0mrowdict\u001b[0m\u001b[1;33m)\u001b[0m\u001b[1;33m:\u001b[0m\u001b[1;33m\u001b[0m\u001b[0m\n\u001b[0;32m--> 153\u001b[0;31m         \u001b[1;32mreturn\u001b[0m \u001b[0mself\u001b[0m\u001b[1;33m.\u001b[0m\u001b[0mwriter\u001b[0m\u001b[1;33m.\u001b[0m\u001b[0mwriterow\u001b[0m\u001b[1;33m(\u001b[0m\u001b[0mself\u001b[0m\u001b[1;33m.\u001b[0m\u001b[0m_dict_to_list\u001b[0m\u001b[1;33m(\u001b[0m\u001b[0mrowdict\u001b[0m\u001b[1;33m)\u001b[0m\u001b[1;33m)\u001b[0m\u001b[1;33m\u001b[0m\u001b[0m\n\u001b[0m\u001b[1;32m    154\u001b[0m \u001b[1;33m\u001b[0m\u001b[0m\n\u001b[1;32m    155\u001b[0m     \u001b[1;32mdef\u001b[0m \u001b[0mwriterows\u001b[0m\u001b[1;33m(\u001b[0m\u001b[0mself\u001b[0m\u001b[1;33m,\u001b[0m \u001b[0mrowdicts\u001b[0m\u001b[1;33m)\u001b[0m\u001b[1;33m:\u001b[0m\u001b[1;33m\u001b[0m\u001b[0m\n",
      "\u001b[0;31mUnicodeEncodeError\u001b[0m: 'gbk' codec can't encode character '\\xf1' in position 1: illegal multibyte sequence"
     ]
    }
   ],
   "source": [
    "with open(csv_outpath,'w') as csv_out:\n",
    "    csv_writer = csv.DictWriter(csv_out,fieldnames = ['Name of restaurant','City','Countty Code','Day of Week',\n",
    "                                                      'Start Time Hour','Start Time Minute','End Time Hour','End Time Minute'])\n",
    "    csv_writer.writeheader()\n",
    "    for deal_file in files:\n",
    "        \n",
    "        # why add 'ignore'--------UnicodeEncodeError: 'gbk' codec can't encode character '\\xf1' in position 1: illegal multibyte sequence\n",
    "        with open(deal_file,'r',encoding = 'utf-8',errors='ignore') as df:\n",
    "            \n",
    "            python_file = json.load(df)\n",
    "            term = python_file['term']\n",
    "            #\"hours\": [{\"is_open_now\": false, \"open\": [{\"is_overnight\": false, \"day\": 0, \"start\": \"0700\", \"end\": \"1530\"}, {\"is_overnight\": false, \"day\": 1, \"start\": \"0700\", \"end\": \"1530\"}, {\"is_overnight\": false, \"day\": 2, \"start\": \"0700\", \"end\": \"1530\"}, {\"is_overnight\": false, \"day\": 3, \"start\": \"0700\", \"end\": \"1530\"}, {\"is_overnight\": false, \"day\": 4, \"start\": \"0700\", \"end\": \"1530\"}, {\"is_overnight\": false, \"day\": 5, \"start\": \"0730\", \"end\": \"1200\"}], \"hours_type\": \"REGULAR\"}],\n",
    "            if term == 'restaurants'  and 'hours' in python_file:\n",
    "                open_value = python_file['hours'][0]['open']\n",
    "                \n",
    "                if open_value:\n",
    "                    name = python_file['name']\n",
    "                    city = python_file['location']['city']\n",
    "                    country = python_file['location']['country']\n",
    "                    \n",
    "                    #\"day\": 0, \"start\": \"0700\", \"end\": \"1530\"\n",
    "                    for day in open_value:\n",
    "                        DOW = str(day['day'])\n",
    "                        SH = day['start'][:2]\n",
    "                        SM = day['start'][2:]\n",
    "                        EH = day['end'][:2]\n",
    "                        EM = day['end'][2:]\n",
    "                        \n",
    "                        csv_writer.writerow({'Name of restaurant':name, 'City':city, 'Countty Code':city, \n",
    "                                             'Day of Week':DOW,'Start Time Hour':SH, 'Start Time Minute':SM,'End Time Hour':EH, 'End Time Minute':EM})\n",
    "                        \n",
    "                        # Though there is an error about UnicodeEncodeError, the open_hours.csv still come out and work well. \n",
    "                        \n",
    "                        # Could you tell me how to fix the UnicodeEncodeError?\n",
    "                        "
   ]
  },
  {
   "cell_type": "code",
   "execution_count": null,
   "metadata": {
    "collapsed": false
   },
   "outputs": [],
   "source": []
  },
  {
   "cell_type": "code",
   "execution_count": null,
   "metadata": {
    "collapsed": true
   },
   "outputs": [],
   "source": []
  }
 ],
 "metadata": {
  "anaconda-cloud": {},
  "kernelspec": {
   "display_name": "Python [conda env:NEUPython]",
   "language": "python",
   "name": "conda-env-NEUPython-py"
  },
  "language_info": {
   "codemirror_mode": {
    "name": "ipython",
    "version": 3
   },
   "file_extension": ".py",
   "mimetype": "text/x-python",
   "name": "python",
   "nbconvert_exporter": "python",
   "pygments_lexer": "ipython3",
   "version": "3.5.2"
  }
 },
 "nbformat": 4,
 "nbformat_minor": 1
}
