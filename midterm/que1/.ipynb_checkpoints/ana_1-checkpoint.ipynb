{
 "cells": [
  {
   "cell_type": "markdown",
   "metadata": {},
   "source": [
    "# Question 1_1\n",
    "\n",
    "To find top 10 used word in 1. of sent email and output the result to a .csv \n"
   ]
  },
  {
   "cell_type": "code",
   "execution_count": 84,
   "metadata": {
    "collapsed": false
   },
   "outputs": [],
   "source": [
    "# from email.parser import Parser \n",
    "import glob\n",
    "import os\n",
    "import nltk\n",
    "from collections import Counter\n",
    "import string\n",
    "from pathlib import Path"
   ]
  },
  {
   "cell_type": "code",
   "execution_count": 105,
   "metadata": {
    "collapsed": false
   },
   "outputs": [],
   "source": [
    "\n",
    "# emali_path = r'D:\\NEU\\2017_Spring\\Python\\midterm\\maildir\\*\\sent\\*'\n",
    "# p = Path(os.getcwd())\n",
    "# email_path = str(p.parent) + r'\\data\\maildir\\*\\sent\\1.'\n",
    "\n",
    "from nltk.corpus import stopwords\n",
    "stop_word = set(stopwords.words('english'))\n",
    "word_counter = Counter()"
   ]
  },
  {
   "cell_type": "code",
   "execution_count": 94,
   "metadata": {
    "collapsed": true
   },
   "outputs": [],
   "source": [
    "# whe i use tihs file_path:r'D:\\NEU\\2017_Spring\\Python\\midterm\\maildir\\*\\sent\\*.' , it always shows the error likes below\n",
    "\n",
    "# FileNotFoundError                         Traceback (most recent call last)\n",
    "# <ipython-input-37-4ce2d49bcfed> in <module>()\n",
    "#       1 files = glob.glob(r'D:\\NEU\\2017_Spring\\Python\\midterm\\maildir\\*\\sent\\*.')\n",
    "#       2 for file in files:\n",
    "# ----> 3     with open(file,'r')as F:\n",
    "#       4         for  word in map(lambda s : s.strip(string.punctuation).lower(),F.read().split()):\n",
    "#       5             #need the word which is not in stopword and consist only str\n",
    "\n",
    "# FileNotFoundError: [Errno 2] No such file or directory: 'D:\\\\NEU\\\\2017_Spring\\\\Python\\\\midterm\\\\maildir\\\\allen-p\\\\sent\\\\1.'"
   ]
  },
  {
   "cell_type": "code",
   "execution_count": 120,
   "metadata": {
    "collapsed": false
   },
   "outputs": [
    {
     "ename": "FileNotFoundError",
     "evalue": "[Errno 2] No such file or directory: 'D:\\\\NEU\\\\Spring2017\\\\Python\\\\midterm\\\\maildir\\\\allen-p\\\\sent\\\\1.'",
     "output_type": "error",
     "traceback": [
      "\u001b[0;31m---------------------------------------------------------------------------\u001b[0m",
      "\u001b[0;31mFileNotFoundError\u001b[0m                         Traceback (most recent call last)",
      "\u001b[0;32m<ipython-input-120-e430dfc32b3e>\u001b[0m in \u001b[0;36m<module>\u001b[0;34m()\u001b[0m\n\u001b[1;32m      2\u001b[0m \u001b[0mfiles\u001b[0m \u001b[1;33m=\u001b[0m \u001b[0mglob\u001b[0m\u001b[1;33m.\u001b[0m\u001b[0mglob\u001b[0m\u001b[1;33m(\u001b[0m\u001b[1;34mr'D:\\NEU\\Spring2017\\Python\\midterm\\maildir\\allen-p\\sent\\*.'\u001b[0m\u001b[1;33m)\u001b[0m\u001b[1;33m\u001b[0m\u001b[0m\n\u001b[1;32m      3\u001b[0m \u001b[1;32mfor\u001b[0m \u001b[0mfile\u001b[0m \u001b[1;32min\u001b[0m \u001b[0mfiles\u001b[0m\u001b[1;33m:\u001b[0m\u001b[1;33m\u001b[0m\u001b[0m\n\u001b[0;32m----> 4\u001b[0;31m     \u001b[1;32mwith\u001b[0m \u001b[0mopen\u001b[0m\u001b[1;33m(\u001b[0m\u001b[0mfile\u001b[0m\u001b[1;33m,\u001b[0m\u001b[1;34m'r'\u001b[0m\u001b[1;33m)\u001b[0m\u001b[1;32mas\u001b[0m \u001b[0mF\u001b[0m\u001b[1;33m:\u001b[0m\u001b[1;33m\u001b[0m\u001b[0m\n\u001b[0m\u001b[1;32m      5\u001b[0m         \u001b[1;32mfor\u001b[0m  \u001b[0mword\u001b[0m \u001b[1;32min\u001b[0m \u001b[0mmap\u001b[0m\u001b[1;33m(\u001b[0m\u001b[1;32mlambda\u001b[0m \u001b[0ms\u001b[0m \u001b[1;33m:\u001b[0m \u001b[0ms\u001b[0m\u001b[1;33m.\u001b[0m\u001b[0mstrip\u001b[0m\u001b[1;33m(\u001b[0m\u001b[0mstring\u001b[0m\u001b[1;33m.\u001b[0m\u001b[0mpunctuation\u001b[0m\u001b[1;33m)\u001b[0m\u001b[1;33m.\u001b[0m\u001b[0mlower\u001b[0m\u001b[1;33m(\u001b[0m\u001b[1;33m)\u001b[0m\u001b[1;33m,\u001b[0m\u001b[0mF\u001b[0m\u001b[1;33m.\u001b[0m\u001b[0mread\u001b[0m\u001b[1;33m(\u001b[0m\u001b[1;33m)\u001b[0m\u001b[1;33m.\u001b[0m\u001b[0msplit\u001b[0m\u001b[1;33m(\u001b[0m\u001b[1;33m)\u001b[0m\u001b[1;33m)\u001b[0m\u001b[1;33m:\u001b[0m\u001b[1;33m\u001b[0m\u001b[0m\n\u001b[1;32m      6\u001b[0m             \u001b[1;31m#need the word which is not in stopword and consist only str\u001b[0m\u001b[1;33m\u001b[0m\u001b[1;33m\u001b[0m\u001b[0m\n",
      "\u001b[0;31mFileNotFoundError\u001b[0m: [Errno 2] No such file or directory: 'D:\\\\NEU\\\\Spring2017\\\\Python\\\\midterm\\\\maildir\\\\allen-p\\\\sent\\\\1.'"
     ]
    }
   ],
   "source": [
    "\n",
    "files = glob.glob(r'D:\\NEU\\Spring2017\\Python\\midterm\\maildir\\allen-p\\sent\\*.')\n",
    "for file in files:\n",
    "    with open(file,'r')as F:\n",
    "        for  word in map(lambda s : s.strip(string.punctuation).lower(),F.read().split()):\n",
    "            #need the word which is not in stopword and consist only str\n",
    "            if word  != ''and word not in stop_word and word.isalpha():\n",
    "                word_counter.update([word])\n",
    "        \n",
    "# print(len(word_counter))    \n"
   ]
  },
  {
   "cell_type": "code",
   "execution_count": 119,
   "metadata": {
    "collapsed": false
   },
   "outputs": [],
   "source": [
    "import csv\n",
    "output_path = r'ana_1\\sent_1_word.csv'\n",
    "with open(output_path,'w') as opp:\n",
    "    writer = csv.DictWriter(opp,fieldnames = ['Word','Frequency'])\n",
    "    writer.writeheader()\n",
    "    for w,freq in word_counter.most_common(10):\n",
    "        writer.writerow({'Word':word, 'Frequency':freq})\n",
    "        \n",
    "# this do work, but the csv do not include anything..........why?????????"
   ]
  },
  {
   "cell_type": "code",
   "execution_count": null,
   "metadata": {
    "collapsed": true
   },
   "outputs": [],
   "source": []
  },
  {
   "cell_type": "code",
   "execution_count": null,
   "metadata": {
    "collapsed": true
   },
   "outputs": [],
   "source": []
  }
 ],
 "metadata": {
  "anaconda-cloud": {},
  "kernelspec": {
   "display_name": "Python [conda env:NEUPython]",
   "language": "python",
   "name": "conda-env-NEUPython-py"
  },
  "language_info": {
   "codemirror_mode": {
    "name": "ipython",
    "version": 3
   },
   "file_extension": ".py",
   "mimetype": "text/x-python",
   "name": "python",
   "nbconvert_exporter": "python",
   "pygments_lexer": "ipython3",
   "version": "3.5.2"
  }
 },
 "nbformat": 4,
 "nbformat_minor": 1
}
