{
 "cells": [
  {
   "cell_type": "markdown",
   "metadata": {},
   "source": [
    "# Question1_2\n",
    "1. dealing with the raw data\n",
    "2. finding the number of user\n"
   ]
  },
  {
   "cell_type": "code",
   "execution_count": 77,
   "metadata": {
    "collapsed": true
   },
   "outputs": [],
   "source": [
    "# from email.parser import Parser\n",
    "import glob\n",
    "# from pathlib import Path\n",
    "import os\n",
    "from collections import Counter\n",
    "import csv\n"
   ]
  },
  {
   "cell_type": "code",
   "execution_count": 54,
   "metadata": {
    "collapsed": true
   },
   "outputs": [],
   "source": [
    "# p = Path(os.getcwd())\n",
    "# email_path = str(p.parent) + '\\data\\maildir\\allen-p\\sent\\1.'\n",
    "\n"
   ]
  },
  {
   "cell_type": "code",
   "execution_count": 73,
   "metadata": {
    "collapsed": false
   },
   "outputs": [],
   "source": [
    "files = glob.glob(r'D:\\NEU\\2017_Spring\\Python\\midterm\\maildir\\*\\sent\\*')\n",
    "sent_email_address_list = []\n",
    "\n",
    "for file in files:\n",
    "    with open(file, 'r') as F:\n",
    "#             mime_file =  Parser().parse(F.read()) \n",
    "#             email_from=mime_file['from']\n",
    "#             print(email_from)\n",
    "            for i, line in enumerate(F):\n",
    "                if i == 2:\n",
    "                    sent_email_address_list.append(line[6:-1])\n",
    "                    break\n",
    "# print(len(set(sent_email_address_list)))  ----- 0？？？？\n"
   ]
  },
  {
   "cell_type": "code",
   "execution_count": 78,
   "metadata": {
    "collapsed": false
   },
   "outputs": [
    {
     "name": "stdout",
     "output_type": "stream",
     "text": [
      "0\n"
     ]
    }
   ],
   "source": [
    "#finding the number of person and related address\n",
    "person_number = {}\n",
    "index = 0\n",
    "for person in set(sent_email_address_list):\n",
    "    person_number[person] = index\n",
    "    index += 1\n",
    "    \n",
    "print(len(person_number))    "
   ]
  },
  {
   "cell_type": "code",
   "execution_count": 79,
   "metadata": {
    "collapsed": false
   },
   "outputs": [],
   "source": [
    "# generate a CSV showing email addresses and relating IDs\n",
    " \n",
    "with open(r'E:\\Anaconda3\\envs\\NEUPython\\midterm\\que1\\ana_2\\person_id.csv', 'w') as OF:\n",
    "        writer = csv.DictWriter(OF, fieldnames = [\"Name\",\"ID\"])\n",
    "        writer.writeheader()\n",
    "        for per,per_id in person_number.items():\n",
    "            writer.writerow({'Name': per,'ID': eper_id})"
   ]
  },
  {
   "cell_type": "code",
   "execution_count": null,
   "metadata": {
    "collapsed": true
   },
   "outputs": [],
   "source": []
  },
  {
   "cell_type": "code",
   "execution_count": 47,
   "metadata": {
    "collapsed": false,
    "scrolled": true
   },
   "outputs": [],
   "source": [
    "\n",
    "# files=glob.glob(r'D:\\NEU\\2017_Spring\\Python\\midterm\\maildir\\allen-p\\sent\\1.')\n",
    "# for file in files:\n",
    "#     with open(file,'r') as F:\n",
    "#         email = Parser().parsestr(F)\n",
    "#         print(email.get('From'))\n",
    "\n",
    "\n",
    "# with open(r'E:\\Anaconda3\\envs\\NEUPython\\midterm\\data\\maildir\\allen-p\\sent\\1.','r') as F:\n",
    "#     email = Parser().parsestr(F)\n",
    "#     print(email.get('From'))\n",
    "    \n",
    "#     FileNotFoundError                         Traceback (most recent call last)\n",
    "# <ipython-input-44-2b8b7ee7a47e> in <module>()\n",
    "#       5 #         email = Parser().parsestr(F)\n",
    "#       6 #         print(email.get('From'))\n",
    "# ----> 7 with open(r'E:\\Anaconda3\\envs\\NEUPython\\midterm\\data\\maildir\\allen-p\\sent\\1.','r') as F:\n",
    "#       8     email = Parser().parsestr(F)\n",
    "#       9     print(email.get('From'))\n",
    "\n",
    "# FileNotFoundError: [Errno 2] No such file or directory: 'E:\\\\Anaconda3\\\\envs\\\\NEUPython\\\\midterm\\\\data\\\\maildir\\\\allen-p\\\\sent\\\\1.'\n",
    "\n",
    "# In [ ]:\n"
   ]
  },
  {
   "cell_type": "code",
   "execution_count": null,
   "metadata": {
    "collapsed": false
   },
   "outputs": [],
   "source": []
  },
  {
   "cell_type": "code",
   "execution_count": null,
   "metadata": {
    "collapsed": true
   },
   "outputs": [],
   "source": []
  }
 ],
 "metadata": {
  "anaconda-cloud": {},
  "kernelspec": {
   "display_name": "Python [conda env:NEUPython]",
   "language": "python",
   "name": "conda-env-NEUPython-py"
  },
  "language_info": {
   "codemirror_mode": {
    "name": "ipython",
    "version": 3
   },
   "file_extension": ".py",
   "mimetype": "text/x-python",
   "name": "python",
   "nbconvert_exporter": "python",
   "pygments_lexer": "ipython3",
   "version": "3.5.2"
  }
 },
 "nbformat": 4,
 "nbformat_minor": 1
}
