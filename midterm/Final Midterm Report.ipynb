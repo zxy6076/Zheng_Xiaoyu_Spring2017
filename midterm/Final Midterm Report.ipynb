{
 "cells": [
  {
   "cell_type": "markdown",
   "metadata": {},
   "source": [
    "# Final Midterm Report"
   ]
  },
  {
   "cell_type": "markdown",
   "metadata": {},
   "source": [
    "# Question1\n"
   ]
  },
  {
   "cell_type": "markdown",
   "metadata": {},
   "source": [
    "# Analysis_1\n",
    "1. To find top 10 used word in 1. of sent email \n",
    "2. outputing the result to a csv file\n"
   ]
  },
  {
   "cell_type": "markdown",
   "metadata": {},
   "source": [
    "# Analysis_2\n",
    "1. dealing with the raw data\n",
    "2. finding the number of user"
   ]
  },
  {
   "cell_type": "markdown",
   "metadata": {},
   "source": [
    "# Analysis_3"
   ]
  },
  {
   "cell_type": "markdown",
   "metadata": {},
   "source": [
    "# Question2\n"
   ]
  },
  {
   "cell_type": "markdown",
   "metadata": {},
   "source": [
    "# Data_download\n",
    "\n",
    "1. article search---q= japan, begin_data = 19900601, end_data=19900630\n",
    "2. article search---q= japan, begin_data = 20100601, end_data=20100630\n",
    "3. archive search----year= 1990, month=6\n",
    "4. archive search----year = 2010, month=6"
   ]
  },
  {
   "cell_type": "markdown",
   "metadata": {},
   "source": [
    "# Analysis_1\n",
    "1. using NYT archive API in 1990_06\n",
    "2. finding section_name of articel in 1990_06\n",
    "3. calculating frequency of each section_name and getting top 20\n",
    "4. generating a .csv to show the result\n",
    "\n",
    "First, I get all the section_name from the NYT data, and then put them into a list.\n",
    "Secondly, I calculate the frequency of each section_name and get top 20\n",
    "Finally , I output the top20 to a csv file which is stord as que2\\ana_1\\archive_section_name_1990_06.csv\n",
    "\n",
    "From the result , we can conclude that the Business Section is the most posted one\n",
    "\n"
   ]
  },
  {
   "cell_type": "markdown",
   "metadata": {},
   "source": [
    "# Analysis_2\n",
    "\n",
    "1. using NYT archive API in 2010_06\n",
    "2. finding value of name(=subject) of keywords in 2010_06\n",
    "3. calculating frequency of each section_name and getting top 20\n",
    "4. generating a csv file to store result\n",
    "\n",
    "First, I get all the value of name from the NYT data, and then put them into a list.\n",
    "Secondly, I calculate the frequency of each value_subject and get top 20\n",
    "Finally , I output the top20 to a csv file which is stord as que2\\ana_2\\archive_value_subject_2010_06.csv\n",
    "\n",
    "From the result , we can conclude that the name = subject and value = Accidents and Safety is the most posted one\n"
   ]
  },
  {
   "cell_type": "markdown",
   "metadata": {},
   "source": [
    "# Analysis_3\n",
    "\n",
    "1. using NYT API for article_search with query = japan  to get year =1990 and year = 2010\n",
    "2. comparing year=1990 and year =2010 in section_name\n",
    "3. finding the intresting of the two year and also seeing whether changeing\n",
    "4. combing the two results to one csv file and storeing the result\n",
    "\n",
    "First, dealing with the two raw data input of japan\n",
    "Second, getting the name and frequency in year=1990 and year = 2010\n",
    "Finally,combing the two outputs of 1990 and 2010 into one csv file\n",
    "\n",
    "From the result , we can see that the Business Section is the most posted one in 1990 and 2010 of Japan respectively 102,67.\n",
    "In 1990,World is in the second position with 21 posted while in the fourth position with 22 posted in 2010.\n",
    "While the Sports is in different position respectively 4th in 1990 with 15 posted,2th in 2010 with 63 posted.\n",
    "So i conclude that the Japanses are more concerning about the leisure time than before."
   ]
  }
 ],
 "metadata": {
  "anaconda-cloud": {},
  "kernelspec": {
   "display_name": "Python [conda env:NEUPython]",
   "language": "python",
   "name": "conda-env-NEUPython-py"
  },
  "language_info": {
   "codemirror_mode": {
    "name": "ipython",
    "version": 3
   },
   "file_extension": ".py",
   "mimetype": "text/x-python",
   "name": "python",
   "nbconvert_exporter": "python",
   "pygments_lexer": "ipython3",
   "version": "3.5.2"
  }
 },
 "nbformat": 4,
 "nbformat_minor": 1
}
