{
 "cells": [
  {
   "cell_type": "markdown",
   "metadata": {},
   "source": [
    "# Question2_1\n",
    "\n",
    "1. using NYT archive API in 1990_06\n",
    "2. finding section_name of articel in 1990_06\n",
    "3. calculating frequency of each section_name and getting top 20\n",
    "4. generating a .csv to show the result\n"
   ]
  },
  {
   "cell_type": "code",
   "execution_count": 9,
   "metadata": {
    "collapsed": true
   },
   "outputs": [],
   "source": [
    "import glob\n",
    "import os\n",
    "import json\n",
    "from pathlib import Path\n",
    "from collections import Counter\n",
    "import csv"
   ]
  },
  {
   "cell_type": "code",
   "execution_count": 5,
   "metadata": {
    "collapsed": false
   },
   "outputs": [],
   "source": [
    "p = Path(os.getcwd())\n",
    "archive_path = str(p.parent)+ r'\\data\\download\\archive\\1990_06\\*'"
   ]
  },
  {
   "cell_type": "code",
   "execution_count": 7,
   "metadata": {
    "collapsed": false
   },
   "outputs": [],
   "source": [
    "# to get the section_name and put them into the section_name_list\n",
    "\n",
    "files = glob.glob(archive_path)\n",
    "section_name_list = []\n",
    "\n",
    "for file in files:\n",
    "    with open(file, 'r') as F:\n",
    "        python_data = json.load(F)\n",
    "        doc_elements = python_data['response']['docs']\n",
    "        for docs in doc_elements:\n",
    "            if 'section_name' in docs:\n",
    "                section_name = docs['section_name']\n",
    "                section_name_list.append(section_name)\n",
    "\n",
    "#print(len(section_name_list))    ------  72479\n"
   ]
  },
  {
   "cell_type": "code",
   "execution_count": 21,
   "metadata": {
    "collapsed": false
   },
   "outputs": [
    {
     "name": "stdout",
     "output_type": "stream",
     "text": [
      "Business --- 10615\n",
      "New York and Region --- 7359\n",
      "Sports --- 7150\n",
      "Style --- 5973\n",
      "Opinion --- 4961\n",
      "U.S. --- 4906\n",
      "Arts --- 4763\n",
      "World --- 4092\n",
      "Obituaries --- 2783\n",
      "Arts; Books --- 1694\n"
     ]
    }
   ],
   "source": [
    "\n",
    "#calculating frequency of each section_name and getting top 10\n",
    "section_name_counter = Counter()\n",
    "for name in section_name_list:\n",
    "    section_name_counter.update([name])\n",
    "# print(len(section_name_counter)) ----- 150\n",
    "for name,fre in section_name_counter.most_common(10):\n",
    "    print(name,'---',fre)\n"
   ]
  },
  {
   "cell_type": "code",
   "execution_count": 22,
   "metadata": {
    "collapsed": false
   },
   "outputs": [],
   "source": [
    "\n",
    "#generating a .csv to show the result\n",
    "output_path = str(p.parent)+ r'\\que2\\ana_1\\archive_section_name_1990_06.csv'\n",
    "\n",
    "with open(output_path,'w') as OF:\n",
    "    writer = csv.DictWriter(OF,fieldnames=['Section_Name','Frequency'])\n",
    "    writer.writeheader()\n",
    "    for name , fre in section_name_counter.most_common(20):\n",
    "        writer.writerow({'Section_Name':name,'Frequency':fre })\n",
    "\n"
   ]
  },
  {
   "cell_type": "code",
   "execution_count": null,
   "metadata": {
    "collapsed": true
   },
   "outputs": [],
   "source": []
  }
 ],
 "metadata": {
  "anaconda-cloud": {},
  "kernelspec": {
   "display_name": "Python [conda env:NEUPython]",
   "language": "python",
   "name": "conda-env-NEUPython-py"
  },
  "language_info": {
   "codemirror_mode": {
    "name": "ipython",
    "version": 3
   },
   "file_extension": ".py",
   "mimetype": "text/x-python",
   "name": "python",
   "nbconvert_exporter": "python",
   "pygments_lexer": "ipython3",
   "version": "3.5.2"
  }
 },
 "nbformat": 4,
 "nbformat_minor": 1
}
