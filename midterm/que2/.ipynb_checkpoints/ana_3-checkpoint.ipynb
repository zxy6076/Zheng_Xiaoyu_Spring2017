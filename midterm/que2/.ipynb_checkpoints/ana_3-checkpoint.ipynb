{
 "cells": [
  {
   "cell_type": "markdown",
   "metadata": {},
   "source": [
    "# Question2_3\n",
    "\n",
    "1. using NYT API for article_search with query = japan  to get year =1990 and year = 2010\n",
    "2. comparing year=1990 and year =2010 in section_name\n",
    "3. finding the intresting of the two year and also seeing whether changeing\n",
    "4. combing the two results to one csv file and storeing the result"
   ]
  },
  {
   "cell_type": "code",
   "execution_count": 5,
   "metadata": {
    "collapsed": true
   },
   "outputs": [],
   "source": [
    "import os\n",
    "import csv\n",
    "import json\n",
    "import glob\n",
    "from collections import Counter\n",
    "from pathlib import Path"
   ]
  },
  {
   "cell_type": "code",
   "execution_count": 6,
   "metadata": {
    "collapsed": true
   },
   "outputs": [],
   "source": [
    "\n",
    "# in order to save time dealing with the raw data, defining a method\n",
    "\n",
    "def calculateSectionName(input_path):\n",
    "    \n",
    "    section_name_list = []\n",
    "    files = glob.glob(input_path)\n",
    "    for file in files:\n",
    "        with open(file,'r') as OF:\n",
    "            python_data = json.load(OF)\n",
    "            docs_elements = python_data['response']['docs']\n",
    "            for doc in docs_elements:\n",
    "                if 'section_name' in doc and doc['section_name']is not None:\n",
    "                    section_name = doc['section_name']\n",
    "                    section_name_list.append(section_name)\n",
    "                    \n",
    "    return section_name_list"
   ]
  },
  {
   "cell_type": "code",
   "execution_count": 7,
   "metadata": {
    "collapsed": true
   },
   "outputs": [],
   "source": [
    "#read different data from two paths\n",
    "p= Path(os.getcwd())\n",
    "path_1990 = str(p.parent)+ r'\\data\\download\\article_search\\1990\\*'\n",
    "path_2010 = str(p.parent)+ r'\\data\\download\\article_search\\2010\\*'\n"
   ]
  },
  {
   "cell_type": "code",
   "execution_count": 20,
   "metadata": {
    "collapsed": false
   },
   "outputs": [],
   "source": [
    "\n",
    "\n",
    "section_name1990__list = calculateSectionName(path_1990)\n",
    "# print(len(section_name1990__list))  --- 269\n",
    "\n",
    "section_name2010__list = calculateSectionName(path_2010)\n",
    "# print(len(section_name2010__list))   ---270\n",
    "\n",
    "#calculating different frequence of  two year respectively\n",
    "section_name1990_counter = Counter()\n",
    "section_name2010_counter = Counter()\n",
    "\n",
    "for name in section_name1990__list:\n",
    "    section_name1990_counter.update([name])\n",
    "#print(len(section_name1990_counter))-----41\n",
    "\n",
    "for name in section_name2010__list:\n",
    "    section_name2010_counter.update([name])\n",
    "#print(len(section_name2010_counter))----34"
   ]
  },
  {
   "cell_type": "code",
   "execution_count": 24,
   "metadata": {
    "collapsed": false
   },
   "outputs": [],
   "source": [
    "output_path = str(p.parent)+ r'\\que2\\ana_3\\section_name_1990and2010.csv'\n",
    "\n",
    "all_counter = section_name2010_counter.most_common(41)\n",
    "\n",
    "#full join two result of year and write into one csv file at the same time\n",
    "# only can read 34 at most because 34 is the least \n",
    "with open(output_path,'w') as OF:\n",
    "    writer = csv.DictWriter(OF,fieldnames=['Rank','Name_1990','Frequency_1990','Name_2010','Frequency_2010'])\n",
    "    writer.writeheader()\n",
    "    for idx,value in enumerate(section_name1990_counter.most_common(34)):\n",
    "        writer.writerow({'Rank':idx+1,'Name_1990':value[0],'Frequency_1990':value[1],'Name_2010':all_counter[idx][0],'Frequency_2010':all_counter[idx][1]})\n",
    "\n"
   ]
  },
  {
   "cell_type": "code",
   "execution_count": null,
   "metadata": {
    "collapsed": true
   },
   "outputs": [],
   "source": []
  },
  {
   "cell_type": "code",
   "execution_count": null,
   "metadata": {
    "collapsed": true
   },
   "outputs": [],
   "source": []
  }
 ],
 "metadata": {
  "anaconda-cloud": {},
  "kernelspec": {
   "display_name": "Python [conda env:NEUPython]",
   "language": "python",
   "name": "conda-env-NEUPython-py"
  },
  "language_info": {
   "codemirror_mode": {
    "name": "ipython",
    "version": 3
   },
   "file_extension": ".py",
   "mimetype": "text/x-python",
   "name": "python",
   "nbconvert_exporter": "python",
   "pygments_lexer": "ipython3",
   "version": "3.5.2"
  }
 },
 "nbformat": 4,
 "nbformat_minor": 1
}
