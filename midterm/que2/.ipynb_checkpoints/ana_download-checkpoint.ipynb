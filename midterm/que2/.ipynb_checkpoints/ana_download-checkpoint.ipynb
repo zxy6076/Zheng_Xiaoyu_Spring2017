{
 "cells": [
  {
   "cell_type": "markdown",
   "metadata": {},
   "source": [
    "# Question2_download data\n",
    "1. article search--'http://api.nytimes.com/svc/search/v2/articlesearch.json?api-key=8458ea411e7543f692ad4fa2ab58c4f4&q=japan&begin_date=19900601&end_date=19900630&page='\n",
    "\n",
    "2. article search--'http://api.nytimes.com/svc/search/v2/articlesearch.json?api-key=8458ea411e7543f692ad4fa2ab58c4f4&q=japan&begin_date=20100601&end_date=20100630&page='\n",
    "\n",
    "3. archive search  1990_06(1)---  http://api.nytimes.com/svc/archive/v1/1990/6.json?api-key=8458ea411e7543f692ad4fa2ab58c4f4&page=\n",
    "\n",
    "4. archive search  2010_06(2)---  http://api.nytimes.com/svc/archive/v1/2010/6.json?api-key=8458ea411e7543f692ad4fa2ab58c4f4&page=\n"
   ]
  },
  {
   "cell_type": "code",
   "execution_count": 65,
   "metadata": {
    "collapsed": true
   },
   "outputs": [],
   "source": [
    "import requests\n",
    "import os\n",
    "from pathlib import Path\n",
    "import json\n",
    "import time\n",
    "#import argparse\n",
    "\n",
    "#api——key=  069adfcc6cd24f329a67c2d0f4931d3b\n",
    "#api_key  =e817622a8572410787c0b66504f317bc\n",
    "#api_key  = 8458ea411e7543f692ad4fa2ab58c4f4"
   ]
  },
  {
   "cell_type": "code",
   "execution_count": 80,
   "metadata": {
    "collapsed": false
   },
   "outputs": [],
   "source": [
    "\n",
    "output_path = r'E:\\Anaconda3\\envs\\NEUPython\\midterm\\data\\download\\article_search\\2010'\n",
    "# download_data=[]\n",
    "page = 0\n",
    "\n",
    "\n",
    "while page < 11:\n",
    "    download_data = requests.get('http://api.nytimes.com/svc/search/v2/articlesearch.json?api-key=8458ea411e7543f692ad4fa2ab58c4f4&q=japan&begin_date=20100601&end_date=20100630&page='+str(page))\n",
    "    with open(output_path + '\\\\'+ str(page) + r'_2010.txt','w') as of:\n",
    "       of.write(json.dumps(download_data.json()))\n",
    "    page +=1\n",
    "    time.sleep(2)\n",
    "    \n",
    "# if not os.path.exists(output_path):\n",
    "#     os.makedirs(output_path)\n",
    "\n",
    "    "
   ]
  },
  {
   "cell_type": "code",
   "execution_count": null,
   "metadata": {
    "collapsed": true
   },
   "outputs": [],
   "source": []
  },
  {
   "cell_type": "code",
   "execution_count": null,
   "metadata": {
    "collapsed": false
   },
   "outputs": [],
   "source": [
    "\n",
    "\n"
   ]
  },
  {
   "cell_type": "code",
   "execution_count": null,
   "metadata": {
    "collapsed": false
   },
   "outputs": [],
   "source": []
  },
  {
   "cell_type": "code",
   "execution_count": null,
   "metadata": {
    "collapsed": true
   },
   "outputs": [],
   "source": []
  }
 ],
 "metadata": {
  "anaconda-cloud": {},
  "kernelspec": {
   "display_name": "Python [conda env:NEUPython]",
   "language": "python",
   "name": "conda-env-NEUPython-py"
  },
  "language_info": {
   "codemirror_mode": {
    "name": "ipython",
    "version": 3
   },
   "file_extension": ".py",
   "mimetype": "text/x-python",
   "name": "python",
   "nbconvert_exporter": "python",
   "pygments_lexer": "ipython3",
   "version": "3.5.2"
  }
 },
 "nbformat": 4,
 "nbformat_minor": 1
}
