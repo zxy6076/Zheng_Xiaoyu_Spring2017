{
 "cells": [
  {
   "cell_type": "markdown",
   "metadata": {},
   "source": [
    "# Question2_2\n",
    "\n",
    "1. using NYT archive API in 2010_06\n",
    "2. finding value of name(=subject) of keywords in 2010_06\n",
    "3. calculating frequency of each section_name and getting top 20\n",
    "4. generating a csv file to store result"
   ]
  },
  {
   "cell_type": "code",
   "execution_count": 30,
   "metadata": {
    "collapsed": true
   },
   "outputs": [],
   "source": [
    "import csv\n",
    "import os\n",
    "import json\n",
    "import glob\n",
    "from collections import Counter\n",
    "from pathlib import Path"
   ]
  },
  {
   "cell_type": "code",
   "execution_count": 25,
   "metadata": {
    "collapsed": false
   },
   "outputs": [],
   "source": [
    "p = Path(os.getcwd())\n",
    "archive_path = str(p.parent)+ r'\\data\\download\\archive\\2010_06\\*'\n",
    "\n"
   ]
  },
  {
   "cell_type": "code",
   "execution_count": 29,
   "metadata": {
    "collapsed": false
   },
   "outputs": [],
   "source": [
    "#finding value of name(=subject) of keywords in 2010_06\n",
    "value_subject_list = []\n",
    "\n",
    "files = glob.glob(archive_path)\n",
    "\n",
    "for file in files:\n",
    "    with open(file,'r') as OF:\n",
    "        python_data = json.load(OF)\n",
    "        docs_elements = python_data['response']['docs']\n",
    "        for doc in docs_elements:\n",
    "            if 'keywords' in doc:\n",
    "                key_word = doc['keywords']\n",
    "                for key in key_word:\n",
    "                    if key['name'] == 'subject':\n",
    "                        value_subject_list.append(key['value'])\n",
    "                    \n",
    "# print(len(value_subject_list))  ------   146641"
   ]
  },
  {
   "cell_type": "code",
   "execution_count": 34,
   "metadata": {
    "collapsed": false
   },
   "outputs": [
    {
     "name": "stdout",
     "output_type": "stream",
     "text": [
      "Accidents and Safety --- 2970\n",
      "Oil (Petroleum) and Gasoline --- 2728\n",
      "Books and Literature --- 2508\n",
      "Offshore Drilling and Exploration --- 2420\n",
      "Baseball --- 2266\n",
      "Soccer --- 2112\n",
      "World Cup 2010 (Soccer) --- 2090\n",
      "Weddings and Engagements --- 1870\n",
      "United States Politics and Government --- 1870\n",
      "Politics and Government --- 1793\n"
     ]
    }
   ],
   "source": [
    "\n",
    "\n",
    "value_subject_counter = Counter()\n",
    "for value in value_subject_list:\n",
    "    value_subject_counter.update([value])\n",
    "    \n",
    "for value,fre in value_subject_counter.most_common(10):\n",
    "    print(value,'---',fre)\n"
   ]
  },
  {
   "cell_type": "code",
   "execution_count": 35,
   "metadata": {
    "collapsed": true
   },
   "outputs": [],
   "source": [
    "#generating a .csv to storthe result\n",
    "output_path = str(p.parent)+ r'\\que2\\ana_2\\archive_value_subject_2010_06.csv'\n",
    "\n",
    "with open(output_path,'w') as WF:\n",
    "    writer = csv.DictWriter(WF,fieldnames= ['Subject','Frequency'])\n",
    "    writer.writeheader()\n",
    "    for name,fre in value_subject_counter.most_common(20):\n",
    "        writer.writerow({'Subject':name, 'Frequency':fre})"
   ]
  },
  {
   "cell_type": "code",
   "execution_count": null,
   "metadata": {
    "collapsed": true
   },
   "outputs": [],
   "source": []
  }
 ],
 "metadata": {
  "anaconda-cloud": {},
  "kernelspec": {
   "display_name": "Python [conda env:NEUPython]",
   "language": "python",
   "name": "conda-env-NEUPython-py"
  },
  "language_info": {
   "codemirror_mode": {
    "name": "ipython",
    "version": 3
   },
   "file_extension": ".py",
   "mimetype": "text/x-python",
   "name": "python",
   "nbconvert_exporter": "python",
   "pygments_lexer": "ipython3",
   "version": "3.5.2"
  }
 },
 "nbformat": 4,
 "nbformat_minor": 1
}
