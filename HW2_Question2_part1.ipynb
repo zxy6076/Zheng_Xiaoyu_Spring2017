{
 "cells": [
  {
   "cell_type": "markdown",
   "metadata": {},
   "source": [
    "# Question2_Part1\n",
    "\n",
    "1. Read all the json files in the folder called Data\n",
    "    1.1 There are three categories of json files in this folder. They are identified by the key called “term” in each of the json file\n",
    "    1.2  Create a folder structure to read all these json files and store them into these separate folders. You are expected to create a hierarchy of folder structure\n",
    "   1.3 You can place all restaurants json files in a particular country (say Australia) in the same folder. How you group the json files and create a folder structure is your choice. Your task is to identify criteria by which you can group all these json files and store them\n",
    "   1.4(You could use these keys to create hierarchy and store json files: Country, city, categories)"
   ]
  },
  {
   "cell_type": "code",
   "execution_count": 17,
   "metadata": {
    "collapsed": true
   },
   "outputs": [],
   "source": [
    "import glob\n",
    "import json\n",
    "import os\n",
    "import shutil"
   ]
  },
  {
   "cell_type": "code",
   "execution_count": 29,
   "metadata": {
    "collapsed": false
   },
   "outputs": [],
   "source": [
    "files = glob.glob(r'Data\\*.json')    #   r'E:\\Anaconda3\\envs\\NEUPython\\HW2\\Data\\*.json'\n",
    "\n",
    "# for names in files:\n",
    "#     print(names)\n",
    "\n",
    "for deal_file in files:\n",
    "    with open(deal_file,'r') as file_data:\n",
    "        python_file = json.load(file_data)   #change the json file into python file\n",
    "        term = python_file['term']  # according to your own desire, choose which attribute tuo classify\n",
    "        country = python_file['location']['country']\n",
    "        city = python_file['location']['city']\n",
    "        \n",
    "        out_path = 'Data_Processed\\\\'+ term +'\\\\'+ country + '\\\\' + city +'\\\\'#concatenate the attributes to form output path--this is relative path\n",
    "#         print(out_path)\n",
    "#         aaaa=os.path.join('Final_Data','term','country','city')\n",
    "#         print(aaaa)\n",
    "        \n",
    "\n",
    "        if not os.path.exists(out_path):  #create directory and put all the files into different location according to their attributes\n",
    "            os.makedirs(out_path)\n",
    "        \n",
    "#         with open(out_path,'w') as outfile:\n",
    "#             json.dump(python_file,outfile)\n",
    "\n",
    "\n",
    "        shutil.copy(deal_file,out_path)   #  oh it work -----oh yeah"
   ]
  },
  {
   "cell_type": "code",
   "execution_count": null,
   "metadata": {
    "collapsed": true
   },
   "outputs": [],
   "source": []
  },
  {
   "cell_type": "code",
   "execution_count": null,
   "metadata": {
    "collapsed": true
   },
   "outputs": [],
   "source": []
  },
  {
   "cell_type": "code",
   "execution_count": null,
   "metadata": {
    "collapsed": true
   },
   "outputs": [],
   "source": []
  }
 ],
 "metadata": {
  "anaconda-cloud": {},
  "kernelspec": {
   "display_name": "Python [conda env:NEUPython]",
   "language": "python",
   "name": "conda-env-NEUPython-py"
  },
  "language_info": {
   "codemirror_mode": {
    "name": "ipython",
    "version": 3
   },
   "file_extension": ".py",
   "mimetype": "text/x-python",
   "name": "python",
   "nbconvert_exporter": "python",
   "pygments_lexer": "ipython3",
   "version": "3.5.2"
  }
 },
 "nbformat": 4,
 "nbformat_minor": 1
}
