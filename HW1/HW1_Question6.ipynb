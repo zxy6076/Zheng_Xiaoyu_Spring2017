{
 "cells": [
  {
   "cell_type": "markdown",
   "metadata": {},
   "source": [
    "# Question6"
   ]
  },
  {
   "cell_type": "code",
   "execution_count": 1,
   "metadata": {
    "collapsed": false
   },
   "outputs": [
    {
     "name": "stdout",
     "output_type": "stream",
     "text": [
      "['1789-Washington.txt', '1793-Washington.txt', '1797-Adams.txt', '1801-Jefferson.txt', '1805-Jefferson.txt', '1809-Madison.txt', '1813-Madison.txt', '1817-Monroe.txt', '1821-Monroe.txt', '1825-Adams.txt', '1829-Jackson.txt', '1833-Jackson.txt', '1837-VanBuren.txt', '1841-Harrison.txt', '1845-Polk.txt', '1849-Taylor.txt', '1853-Pierce.txt', '1857-Buchanan.txt', '1861-Lincoln.txt', '1865-Lincoln.txt', '1869-Grant.txt', '1873-Grant.txt', '1877-Hayes.txt', '1881-Garfield.txt', '1885-Cleveland.txt', '1889-Harrison.txt', '1893-Cleveland.txt', '1897-McKinley.txt', '1901-McKinley.txt', '1905-Roosevelt.txt', '1909-Taft.txt', '1913-Wilson.txt', '1917-Wilson.txt', '1921-Harding.txt', '1925-Coolidge.txt', '1929-Hoover.txt', '1933-Roosevelt.txt', '1937-Roosevelt.txt', '1941-Roosevelt.txt', '1945-Roosevelt.txt', '1949-Truman.txt', '1953-Eisenhower.txt', '1957-Eisenhower.txt', '1961-Kennedy.txt', '1965-Johnson.txt', '1969-Nixon.txt', '1973-Nixon.txt', '1977-Carter.txt', '1981-Reagan.txt', '1985-Reagan.txt', '1989-Bush.txt', '1993-Clinton.txt', '1997-Clinton.txt', '2001-Bush.txt', '2005-Bush.txt', '2009-Obama.txt']\n"
     ]
    }
   ],
   "source": [
    "import nltk\n",
    "all_list = nltk.corpus.inaugural.fileids()\n",
    "#print(all_list)"
   ]
  },
  {
   "cell_type": "code",
   "execution_count": 2,
   "metadata": {
    "collapsed": false
   },
   "outputs": [
    {
     "name": "stdout",
     "output_type": "stream",
     "text": [
      "Grant\n",
      "855\n",
      "Bush\n",
      "1578\n",
      "Coolidge\n",
      "1221\n",
      "Carter\n",
      "529\n",
      "Eisenhower\n",
      "1250\n",
      "Obama\n",
      "938\n",
      "Madison\n",
      "899\n",
      "Buchanan\n",
      "948\n",
      "Jefferson\n",
      "1261\n",
      "McKinley\n",
      "1682\n",
      "Garfield\n",
      "1022\n",
      "Monroe\n",
      "1781\n",
      "Lincoln\n",
      "1261\n",
      "Hayes\n",
      "832\n",
      "Nixon\n",
      "1037\n",
      "Pierce\n",
      "1168\n",
      "Hoover\n",
      "1087\n",
      "Polk\n",
      "1333\n",
      "Clinton\n",
      "1138\n",
      "Adams\n",
      "1503\n",
      "Kennedy\n",
      "570\n",
      "Reagan\n",
      "1453\n",
      "Jackson\n",
      "846\n",
      "Wilson\n",
      "996\n",
      "Taylor\n",
      "499\n",
      "Harding\n",
      "1170\n",
      "Cleveland\n",
      "1219\n",
      "Roosevelt\n",
      "1704\n",
      "Taft\n",
      "1439\n",
      "Harrison\n",
      "2662\n",
      "Truman\n",
      "781\n",
      "Johnson\n",
      "571\n",
      "Washington\n",
      "663\n",
      "VanBuren\n",
      "1318\n"
     ]
    }
   ],
   "source": [
    "president_list = {}\n",
    "for allnames in all_list:\n",
    "    name = allnames[5:-4]\n",
    "    if name in president_list:\n",
    "        name_list = list(nltk.corpus.inaugural.words(allnames))\n",
    "        president_list[name].extend(name_list)\n",
    "    else:\n",
    "        name_list = list(nltk.corpus.inaugural.words(allnames))\n",
    "        president_list[name] = name_list\n",
    "\n",
    "for key in president_list.keys():\n",
    "    print(key)\n",
    "    print(len(set(president_list[key])))"
   ]
  },
  {
   "cell_type": "code",
   "execution_count": null,
   "metadata": {
    "collapsed": true
   },
   "outputs": [],
   "source": []
  }
 ],
 "metadata": {
  "kernelspec": {
   "display_name": "Python [conda env:NEUPython]",
   "language": "python",
   "name": "conda-env-NEUPython-py"
  },
  "language_info": {
   "codemirror_mode": {
    "name": "ipython",
    "version": 3
   },
   "file_extension": ".py",
   "mimetype": "text/x-python",
   "name": "python",
   "nbconvert_exporter": "python",
   "pygments_lexer": "ipython3",
   "version": "3.5.2"
  }
 },
 "nbformat": 4,
 "nbformat_minor": 2
}
