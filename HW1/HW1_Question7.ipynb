{
 "cells": [
  {
   "cell_type": "markdown",
   "metadata": {},
   "source": [
    "# Question7"
   ]
  },
  {
   "cell_type": "code",
   "execution_count": 1,
   "metadata": {
    "collapsed": false
   },
   "outputs": [
    {
     "name": "stdout",
     "output_type": "stream",
     "text": [
      "['female.txt', 'male.txt']\n"
     ]
    }
   ],
   "source": [
    "import nltk\n",
    "file_list = nltk.corpus.names.fileids()\n",
    "print(file_list)"
   ]
  },
  {
   "cell_type": "code",
   "execution_count": 4,
   "metadata": {
    "collapsed": true
   },
   "outputs": [],
   "source": [
    "import string\n",
    "dict_female = {}\n",
    "dict_male = {}\n",
    "for l in list(string.ascii_lowercase):\n",
    "    dict_female[l] = 0\n",
    "    dict_male[l] = 0\n",
    "\n",
    "female_list = list(nltk.corpus.names.words('female.txt'))\n",
    "\n",
    "for name in female_list:\n",
    "    last_letter = name.strip()[-1]\n",
    "    dict_female[last_letter] +=1\n",
    "\n",
    "male_list  = list(nltk.corpus.names.words('male.txt'))\n",
    "for name in male_list:\n",
    "    last_letter = name.strip()[-1]\n",
    "    dict_male[last_letter] +=1"
   ]
  },
  {
   "cell_type": "code",
   "execution_count": 5,
   "metadata": {
    "collapsed": false
   },
   "outputs": [
    {
     "name": "stdout",
     "output_type": "stream",
     "text": [
      "[ a ] male: 1.609322974472808 %,female: 98.3906770255272 %\n",
      "[ b ] male: 70.0 %,female: 30.0 %\n",
      "[ c ] male: 100.0 %,female: 0.0 %\n",
      "[ d ] male: 85.3932584269663 %,female: 14.606741573033707 %\n",
      "[ e ] male: 24.618621778011573 %,female: 75.38137822198843 %\n",
      "[ f ] male: 92.5925925925926 %,female: 7.407407407407407 %\n",
      "[ g ] male: 76.19047619047619 %,female: 23.80952380952381 %\n",
      "[ h ] male: 46.96969696969697 %,female: 53.03030303030303 %\n",
      "[ i ] male: 13.623978201634877 %,female: 86.37602179836512 %\n",
      "[ j ] male: 75.0 %,female: 25.0 %\n",
      "[ k ] male: 95.83333333333333 %,female: 4.166666666666667 %\n",
      "[ l ] male: 51.09289617486339 %,female: 48.90710382513661 %\n",
      "[ m ] male: 84.33734939759036 %,female: 15.662650602409638 %\n",
      "[ n ] male: 55.324074074074076 %,female: 44.675925925925924 %\n",
      "[ o ] male: 83.33333333333333 %,female: 16.666666666666668 %\n",
      "[ p ] male: 90.0 %,female: 10.0 %\n"
     ]
    },
    {
     "ename": "ZeroDivisionError",
     "evalue": "division by zero",
     "output_type": "error",
     "traceback": [
      "\u001b[0;31m---------------------------------------------------------------------------\u001b[0m",
      "\u001b[0;31mZeroDivisionError\u001b[0m                         Traceback (most recent call last)",
      "\u001b[0;32m<ipython-input-5-67e00025215e>\u001b[0m in \u001b[0;36m<module>\u001b[0;34m()\u001b[0m\n\u001b[1;32m      6\u001b[0m         \u001b[0mprint\u001b[0m\u001b[1;33m(\u001b[0m\u001b[1;34m'['\u001b[0m\u001b[1;33m,\u001b[0m\u001b[0mletter\u001b[0m\u001b[1;33m,\u001b[0m\u001b[1;34m'] male:'\u001b[0m\u001b[1;33m,\u001b[0m\u001b[1;36m0\u001b[0m\u001b[1;33m,\u001b[0m\u001b[1;34m'%,female:'\u001b[0m\u001b[1;33m,\u001b[0m\u001b[1;36m0\u001b[0m\u001b[1;33m,\u001b[0m\u001b[1;34m'%'\u001b[0m\u001b[1;33m)\u001b[0m\u001b[1;33m\u001b[0m\u001b[0m\n\u001b[1;32m      7\u001b[0m     \u001b[1;32melse\u001b[0m\u001b[1;33m:\u001b[0m\u001b[1;33m\u001b[0m\u001b[0m\n\u001b[0;32m----> 8\u001b[0;31m         \u001b[0mprint\u001b[0m\u001b[1;33m(\u001b[0m\u001b[1;34m'['\u001b[0m\u001b[1;33m,\u001b[0m\u001b[0mletter\u001b[0m\u001b[1;33m,\u001b[0m\u001b[1;34m'] male:'\u001b[0m\u001b[1;33m,\u001b[0m\u001b[1;36m100\u001b[0m\u001b[1;33m*\u001b[0m\u001b[0mmale_number\u001b[0m\u001b[1;33m/\u001b[0m\u001b[0mtotal_number\u001b[0m\u001b[1;33m,\u001b[0m\u001b[1;34m'%,female:'\u001b[0m\u001b[1;33m,\u001b[0m\u001b[1;36m100\u001b[0m\u001b[1;33m*\u001b[0m\u001b[0mfemale_number\u001b[0m\u001b[1;33m/\u001b[0m\u001b[0mtotal_number\u001b[0m\u001b[1;33m,\u001b[0m\u001b[1;34m'%'\u001b[0m\u001b[1;33m)\u001b[0m\u001b[1;33m\u001b[0m\u001b[0m\n\u001b[0m",
      "\u001b[0;31mZeroDivisionError\u001b[0m: division by zero"
     ]
    }
   ],
   "source": [
    "for letter in list(string.ascii_lowercase):\n",
    "    male_number = dict_male[letter]\n",
    "    female_number = dict_female[letter]\n",
    "    total_number = male_number + female_number\n",
    "    if(total == 0):\n",
    "        print('[',letter,'] male:',0,'%,female:',0,'%')\n",
    "    else:\n",
    "        print('[',letter,'] male:',100*male_number/total_number,'%,female:',100*female_number/total_number,'%')"
   ]
  },
  {
   "cell_type": "code",
   "execution_count": null,
   "metadata": {
    "collapsed": true
   },
   "outputs": [],
   "source": [
    "l"
   ]
  }
 ],
 "metadata": {
  "kernelspec": {
   "display_name": "Python [conda env:NEUPython]",
   "language": "python",
   "name": "conda-env-NEUPython-py"
  },
  "language_info": {
   "codemirror_mode": {
    "name": "ipython",
    "version": 3
   },
   "file_extension": ".py",
   "mimetype": "text/x-python",
   "name": "python",
   "nbconvert_exporter": "python",
   "pygments_lexer": "ipython3",
   "version": "3.5.2"
  }
 },
 "nbformat": 4,
 "nbformat_minor": 2
}
