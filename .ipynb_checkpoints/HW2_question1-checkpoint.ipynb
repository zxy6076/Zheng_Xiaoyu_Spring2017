{
 "cells": [
  {
   "cell_type": "markdown",
   "metadata": {},
   "source": [
    "# Question1\n",
    "\n",
    "1.Learn and understand Zipf’s Law.\n",
    "2.Pick any file (or files) in NLTK package.\n",
    "3.Prove if Zipf’s Law works in Natural Language or not.\n",
    "4.REQUIREMNTS: (Must Do)\n",
    "    1) Use ’glob’ to open and read file. If read multiple files use LOOP to achieve.\n",
    "    2) Create at least one function and one lambda function.\n",
    "    3) Save your data as an CSV file contains (Word, Rank, Frequency) with TITLE and Sort it by RANK.\n",
    "    4) Open your CSV file, generate a log-log figure according to the data you saved.\n",
    "    5) Write a conclusion at the end of your code base on your figure."
   ]
  },
  {
   "cell_type": "code",
   "execution_count": 2,
   "metadata": {
    "collapsed": false
   },
   "outputs": [],
   "source": [
    "import nltk\n",
    "import glob\n",
    "import os\n",
    "import string\n",
    "from collections import Counter\n",
    "# os.getcwd()\n",
    "#nltk.corpus.gutenberg.fileids()     ======== shakespeare-hamlet.txt     E:\\Anaconda3\\envs\\NEUPython\\nltk_data\\corpora\\gutenberg\\shakespeare-hamlet.txt"
   ]
  },
  {
   "cell_type": "code",
   "execution_count": 3,
   "metadata": {
    "collapsed": false
   },
   "outputs": [],
   "source": [
    "# for name in glob.glob(r'E:\\Anaconda3\\envs\\NEUPython\\nltk_data\\corpora\\gutenberg\\shakespeare-hamlet.txt'):\n",
    "#     print(name)\n",
    "# print(type(glob.glob(r'E:\\Anaconda3\\envs\\NEUPython\\nltk_data\\corpora\\gutenberg\\shakespeare-hamlet.txt')))\n",
    "\n",
    "\n",
    "def countWord(target_path):\n",
    "    \n",
    "    files = glob.glob(target_path)\n",
    "    counter_word = Counter()\n",
    "    total = 0\n",
    "    \n",
    "    for deal_file in files:\n",
    "        with open(deal_file,'r') as choose_file:\n",
    "             #dealing with the String to delete punctuation,and change Str into lower case\n",
    "            for word in map(lambda f : f.strip(string.punctuation).lower(),choose_file.read().split()):\n",
    "                if word != '':\n",
    "                    total +=1\n",
    "                    counter_word.update([word])\n",
    "            \n",
    "    return counter_word, total\n",
    "            \n",
    "    "
   ]
  },
  {
   "cell_type": "code",
   "execution_count": 18,
   "metadata": {
    "collapsed": false
   },
   "outputs": [],
   "source": [
    "import csv\n",
    "\n",
    "\n",
    "def writeCSV (words,target_path=r'E:\\Anaconda3\\envs\\NEUPython\\Figure'): #target_path -> file path of output CSV\n",
    "    with open(target_path,'w') as out_CSV:\n",
    "        csv_Writer = csv.DictWriter(out_csv,fieldnames = ['WORD','RANK','FREQUENCY'])\n",
    "        csv_Writer.writeheader()\n",
    "        rank = 1\n",
    "        for word,frequence in words.most_common():\n",
    "            csv_Writer.writerow({'WORD':word,'Rank':rank,'FREQUENCY':frequency})\n",
    "            rank +=1"
   ]
  },
  {
   "cell_type": "code",
   "execution_count": 19,
   "metadata": {
    "collapsed": false
   },
   "outputs": [
    {
     "ename": "PermissionError",
     "evalue": "[Errno 13] Permission denied: 'E:\\\\Anaconda3\\\\envs\\\\NEUPython\\\\Figure'",
     "output_type": "error",
     "traceback": [
      "\u001b[0;31m---------------------------------------------------------------------------\u001b[0m",
      "\u001b[0;31mPermissionError\u001b[0m                           Traceback (most recent call last)",
      "\u001b[0;32m<ipython-input-19-9abf7c202f3a>\u001b[0m in \u001b[0;36m<module>\u001b[0;34m()\u001b[0m\n\u001b[1;32m      5\u001b[0m \u001b[1;31m# write_path =r'E:\\Anaconda3\\envs\\NEUPython\\Figure'\u001b[0m\u001b[1;33m\u001b[0m\u001b[1;33m\u001b[0m\u001b[0m\n\u001b[1;32m      6\u001b[0m \u001b[1;31m# write_path =r'E:Figure'\u001b[0m\u001b[1;33m\u001b[0m\u001b[1;33m\u001b[0m\u001b[0m\n\u001b[0;32m----> 7\u001b[0;31m \u001b[0mwriteCSV\u001b[0m\u001b[1;33m(\u001b[0m\u001b[0mcounter_word\u001b[0m\u001b[1;33m,\u001b[0m\u001b[0mwrite_path\u001b[0m\u001b[1;33m)\u001b[0m\u001b[1;33m\u001b[0m\u001b[0m\n\u001b[0m\u001b[1;32m      8\u001b[0m \u001b[1;31m# print(total)\u001b[0m\u001b[1;33m\u001b[0m\u001b[1;33m\u001b[0m\u001b[0m\n\u001b[1;32m      9\u001b[0m \u001b[1;33m\u001b[0m\u001b[0m\n",
      "\u001b[0;32m<ipython-input-18-5968d1f03311>\u001b[0m in \u001b[0;36mwriteCSV\u001b[0;34m(words, target_path)\u001b[0m\n\u001b[1;32m      4\u001b[0m \u001b[1;31m#target_path -> file path of output CSV\u001b[0m\u001b[1;33m\u001b[0m\u001b[1;33m\u001b[0m\u001b[0m\n\u001b[1;32m      5\u001b[0m \u001b[1;32mdef\u001b[0m \u001b[0mwriteCSV\u001b[0m \u001b[1;33m(\u001b[0m\u001b[0mwords\u001b[0m\u001b[1;33m,\u001b[0m\u001b[0mtarget_path\u001b[0m\u001b[1;33m=\u001b[0m\u001b[1;34mr'E:\\Anaconda3\\envs\\NEUPython\\Figure'\u001b[0m\u001b[1;33m)\u001b[0m\u001b[1;33m:\u001b[0m\u001b[1;33m\u001b[0m\u001b[0m\n\u001b[0;32m----> 6\u001b[0;31m     \u001b[1;32mwith\u001b[0m \u001b[0mopen\u001b[0m\u001b[1;33m(\u001b[0m\u001b[0mtarget_path\u001b[0m\u001b[1;33m,\u001b[0m\u001b[1;34m'w'\u001b[0m\u001b[1;33m)\u001b[0m \u001b[1;32mas\u001b[0m \u001b[0mout_CSV\u001b[0m\u001b[1;33m:\u001b[0m\u001b[1;33m\u001b[0m\u001b[0m\n\u001b[0m\u001b[1;32m      7\u001b[0m         \u001b[0mcsv_Writer\u001b[0m \u001b[1;33m=\u001b[0m \u001b[0mcsv\u001b[0m\u001b[1;33m.\u001b[0m\u001b[0mDictWriter\u001b[0m\u001b[1;33m(\u001b[0m\u001b[0mout_csv\u001b[0m\u001b[1;33m,\u001b[0m\u001b[0mfieldnames\u001b[0m \u001b[1;33m=\u001b[0m \u001b[1;33m[\u001b[0m\u001b[1;34m'WORD'\u001b[0m\u001b[1;33m,\u001b[0m\u001b[1;34m'RANK'\u001b[0m\u001b[1;33m,\u001b[0m\u001b[1;34m'FREQUENCY'\u001b[0m\u001b[1;33m]\u001b[0m\u001b[1;33m)\u001b[0m\u001b[1;33m\u001b[0m\u001b[0m\n\u001b[1;32m      8\u001b[0m         \u001b[0mcsv_Writer\u001b[0m\u001b[1;33m.\u001b[0m\u001b[0mwriteheader\u001b[0m\u001b[1;33m(\u001b[0m\u001b[1;33m)\u001b[0m\u001b[1;33m\u001b[0m\u001b[0m\n",
      "\u001b[0;31mPermissionError\u001b[0m: [Errno 13] Permission denied: 'E:\\\\Anaconda3\\\\envs\\\\NEUPython\\\\Figure'"
     ]
    }
   ],
   "source": [
    "\n",
    "read_path = r'E:\\Anaconda3\\envs\\NEUPython\\nltk_data\\corpora\\gutenberg\\shakespeare-hamlet.txt'\n",
    "counter_word,total = countWord(read_path)\n",
    "\n",
    "# write_path =r'E:\\Anaconda3\\envs\\NEUPython\\Figure' \n",
    "# write_path =r'E:Figure'\n",
    "writeCSV(counter_word,write_path)\n",
    "# print(total)\n",
    "\n",
    "\n",
    "#why deniedddddddddddddddddddddddddddddddddd  , i restart the jupyter notebook as admin, it still dose not work ........ai........\n"
   ]
  },
  {
   "cell_type": "code",
   "execution_count": null,
   "metadata": {
    "collapsed": true
   },
   "outputs": [],
   "source": []
  },
  {
   "cell_type": "code",
   "execution_count": null,
   "metadata": {
    "collapsed": true
   },
   "outputs": [],
   "source": []
  }
 ],
 "metadata": {
  "anaconda-cloud": {},
  "kernelspec": {
   "display_name": "Python [conda env:NEUPython]",
   "language": "python",
   "name": "conda-env-NEUPython-py"
  },
  "language_info": {
   "codemirror_mode": {
    "name": "ipython",
    "version": 3
   },
   "file_extension": ".py",
   "mimetype": "text/x-python",
   "name": "python",
   "nbconvert_exporter": "python",
   "pygments_lexer": "ipython3",
   "version": "3.5.2"
  }
 },
 "nbformat": 4,
 "nbformat_minor": 1
}
