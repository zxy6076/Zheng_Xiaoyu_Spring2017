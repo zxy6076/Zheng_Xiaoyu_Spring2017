{
 "cells": [
  {
   "cell_type": "code",
   "execution_count": 8,
   "metadata": {
    "collapsed": false
   },
   "outputs": [],
   "source": [
    "import json,os\n",
    "hello={'a':1,'b':2}\n",
    "path=\"Processed Data\"\n",
    "with open(path+'\\\\'+'hello.json','w') as outfile:\n",
    "    json.dump(hello,outfile)\n",
    "    \n",
    "#this will work with the assumption that Processed Data is a folder \n",
    "#that exists in the same folder where ur jupyter notebook exists. If you dont want to create the Processed Data folder manually,\n",
    "#in the beginning of the code, just make the directory using os. you could use os.makedirs('Processed Data')(Please dont put this main folder creation inside \n",
    "#any loop since it will run for every loop and create many Processed Data folder. You dont want that to happen!!)"
   ]
  },
  {
   "cell_type": "code",
   "execution_count": null,
   "metadata": {
    "collapsed": true
   },
   "outputs": [],
   "source": []
  }
 ],
 "metadata": {
  "anaconda-cloud": {},
  "kernelspec": {
   "display_name": "Python [default]",
   "language": "python",
   "name": "python3"
  },
  "language_info": {
   "codemirror_mode": {
    "name": "ipython",
    "version": 3
   },
   "file_extension": ".py",
   "mimetype": "text/x-python",
   "name": "python",
   "nbconvert_exporter": "python",
   "pygments_lexer": "ipython3",
   "version": "3.5.2"
  }
 },
 "nbformat": 4,
 "nbformat_minor": 2
}
