{
 "cells": [
  {
   "cell_type": "markdown",
   "metadata": {},
   "source": [
    "# Analysis_1    \n",
    "## This analysis is about the probability of successfully scoring from 45 meters(soccer)\n",
    "## Using cl-shots-2012.csv"
   ]
  },
  {
   "cell_type": "code",
   "execution_count": 1,
   "metadata": {
    "collapsed": true
   },
   "outputs": [],
   "source": [
    "import pandas as pd\n",
    "import numpy as np\n",
    "from pandas import DataFrame,Series\n",
    "import matplotlib.pyplot as plt"
   ]
  },
  {
   "cell_type": "code",
   "execution_count": 2,
   "metadata": {
    "collapsed": true
   },
   "outputs": [],
   "source": [
    "%matplotlib inline"
   ]
  },
  {
   "cell_type": "code",
   "execution_count": 22,
   "metadata": {
    "collapsed": false
   },
   "outputs": [
    {
     "data": {
      "text/html": [
       "<div>\n",
       "<table border=\"1\" class=\"dataframe\">\n",
       "  <thead>\n",
       "    <tr style=\"text-align: right;\">\n",
       "      <th></th>\n",
       "      <th>dist</th>\n",
       "      <th>dx</th>\n",
       "      <th>dy</th>\n",
       "      <th>event_id</th>\n",
       "      <th>goal</th>\n",
       "      <th>play_id</th>\n",
       "      <th>player</th>\n",
       "      <th>shot</th>\n",
       "      <th>team</th>\n",
       "      <th>x</th>\n",
       "      <th>y</th>\n",
       "    </tr>\n",
       "  </thead>\n",
       "  <tbody>\n",
       "    <tr>\n",
       "      <th>0</th>\n",
       "      <td>28.989564</td>\n",
       "      <td>28.245</td>\n",
       "      <td>6.528</td>\n",
       "      <td>4fc58cdd-544b-4c05-8b2f-1cdc3d5a8164</td>\n",
       "      <td>False</td>\n",
       "      <td>699caaab-f4d6-411c-b7ef-737ec6d23196</td>\n",
       "      <td>James Rodríguez</td>\n",
       "      <td>True</td>\n",
       "      <td>Porto</td>\n",
       "      <td>76.755</td>\n",
       "      <td>28.832</td>\n",
       "    </tr>\n",
       "    <tr>\n",
       "      <th>2</th>\n",
       "      <td>19.254175</td>\n",
       "      <td>-18.585</td>\n",
       "      <td>5.032</td>\n",
       "      <td>764b87c7-426b-45da-9921-9e0556b90922</td>\n",
       "      <td>False</td>\n",
       "      <td>373c02f2-81ff-4b46-b2df-16629800c8fb</td>\n",
       "      <td>Sammir</td>\n",
       "      <td>True</td>\n",
       "      <td>Dinamo Zagreb</td>\n",
       "      <td>18.585</td>\n",
       "      <td>27.404</td>\n",
       "    </tr>\n",
       "    <tr>\n",
       "      <th>8</th>\n",
       "      <td>25.772814</td>\n",
       "      <td>-20.790</td>\n",
       "      <td>-15.232</td>\n",
       "      <td>a276c188-492e-4ada-8168-5bee7e998cc7</td>\n",
       "      <td>False</td>\n",
       "      <td>e190760e-9912-4d36-99f7-a1ceb696b5da</td>\n",
       "      <td>Duje Čop</td>\n",
       "      <td>True</td>\n",
       "      <td>Dinamo Zagreb</td>\n",
       "      <td>20.790</td>\n",
       "      <td>48.280</td>\n",
       "    </tr>\n",
       "    <tr>\n",
       "      <th>10</th>\n",
       "      <td>35.180567</td>\n",
       "      <td>33.810</td>\n",
       "      <td>-9.724</td>\n",
       "      <td>b5f9dd79-14ff-4671-ad3a-a198abfa24a8</td>\n",
       "      <td>False</td>\n",
       "      <td>1204aee1-6925-48b1-92af-d70fa87b888f</td>\n",
       "      <td>Maicon</td>\n",
       "      <td>True</td>\n",
       "      <td>Porto</td>\n",
       "      <td>71.190</td>\n",
       "      <td>44.200</td>\n",
       "    </tr>\n",
       "    <tr>\n",
       "      <th>12</th>\n",
       "      <td>13.755000</td>\n",
       "      <td>13.755</td>\n",
       "      <td>0.000</td>\n",
       "      <td>3a0178d9-67c8-4018-b18e-cceb3fbbdf48</td>\n",
       "      <td>False</td>\n",
       "      <td>a968c9e5-6f17-48ab-9081-7210ce10b3ed</td>\n",
       "      <td>Miguel Lopes</td>\n",
       "      <td>True</td>\n",
       "      <td>Porto</td>\n",
       "      <td>91.245</td>\n",
       "      <td>38.012</td>\n",
       "    </tr>\n",
       "  </tbody>\n",
       "</table>\n",
       "</div>"
      ],
      "text/plain": [
       "         dist      dx      dy                              event_id   goal  \\\n",
       "0   28.989564  28.245   6.528  4fc58cdd-544b-4c05-8b2f-1cdc3d5a8164  False   \n",
       "2   19.254175 -18.585   5.032  764b87c7-426b-45da-9921-9e0556b90922  False   \n",
       "8   25.772814 -20.790 -15.232  a276c188-492e-4ada-8168-5bee7e998cc7  False   \n",
       "10  35.180567  33.810  -9.724  b5f9dd79-14ff-4671-ad3a-a198abfa24a8  False   \n",
       "12  13.755000  13.755   0.000  3a0178d9-67c8-4018-b18e-cceb3fbbdf48  False   \n",
       "\n",
       "                                 play_id           player  shot  \\\n",
       "0   699caaab-f4d6-411c-b7ef-737ec6d23196  James Rodríguez  True   \n",
       "2   373c02f2-81ff-4b46-b2df-16629800c8fb           Sammir  True   \n",
       "8   e190760e-9912-4d36-99f7-a1ceb696b5da         Duje Čop  True   \n",
       "10  1204aee1-6925-48b1-92af-d70fa87b888f           Maicon  True   \n",
       "12  a968c9e5-6f17-48ab-9081-7210ce10b3ed     Miguel Lopes  True   \n",
       "\n",
       "             team       x       y  \n",
       "0           Porto  76.755  28.832  \n",
       "2   Dinamo Zagreb  18.585  27.404  \n",
       "8   Dinamo Zagreb  20.790  48.280  \n",
       "10          Porto  71.190  44.200  \n",
       "12          Porto  91.245  38.012  "
      ]
     },
     "execution_count": 22,
     "metadata": {},
     "output_type": "execute_result"
    }
   ],
   "source": [
    "# using the first column as index\n",
    "raw_data = pd.read_csv('..\\data\\cl-shots-2012.csv',index_col=0,na_values='N/A')\n",
    "raw_data.head()"
   ]
  },
  {
   "cell_type": "code",
   "execution_count": 23,
   "metadata": {
    "collapsed": false
   },
   "outputs": [
    {
     "data": {
      "text/html": [
       "<div>\n",
       "<table border=\"1\" class=\"dataframe\">\n",
       "  <thead>\n",
       "    <tr style=\"text-align: right;\">\n",
       "      <th></th>\n",
       "      <th>dist</th>\n",
       "      <th>dx</th>\n",
       "      <th>dy</th>\n",
       "      <th>x</th>\n",
       "      <th>y</th>\n",
       "    </tr>\n",
       "  </thead>\n",
       "  <tbody>\n",
       "    <tr>\n",
       "      <th>count</th>\n",
       "      <td>2273.000000</td>\n",
       "      <td>2271.000000</td>\n",
       "      <td>2271.000000</td>\n",
       "      <td>2273.000000</td>\n",
       "      <td>2273.000000</td>\n",
       "    </tr>\n",
       "    <tr>\n",
       "      <th>mean</th>\n",
       "      <td>18.387649</td>\n",
       "      <td>0.124696</td>\n",
       "      <td>0.842978</td>\n",
       "      <td>51.402604</td>\n",
       "      <td>33.157404</td>\n",
       "    </tr>\n",
       "    <tr>\n",
       "      <th>std</th>\n",
       "      <td>8.120749</td>\n",
       "      <td>17.499210</td>\n",
       "      <td>9.879692</td>\n",
       "      <td>38.015387</td>\n",
       "      <td>9.182643</td>\n",
       "    </tr>\n",
       "    <tr>\n",
       "      <th>min</th>\n",
       "      <td>0.000000</td>\n",
       "      <td>-47.145000</td>\n",
       "      <td>-42.160000</td>\n",
       "      <td>0.000000</td>\n",
       "      <td>2.856000</td>\n",
       "    </tr>\n",
       "    <tr>\n",
       "      <th>25%</th>\n",
       "      <td>11.872038</td>\n",
       "      <td>-13.387500</td>\n",
       "      <td>-6.154000</td>\n",
       "      <td>13.020000</td>\n",
       "      <td>26.384000</td>\n",
       "    </tr>\n",
       "    <tr>\n",
       "      <th>50%</th>\n",
       "      <td>17.511139</td>\n",
       "      <td>-2.205000</td>\n",
       "      <td>0.680000</td>\n",
       "      <td>33.075000</td>\n",
       "      <td>33.320000</td>\n",
       "    </tr>\n",
       "    <tr>\n",
       "      <th>75%</th>\n",
       "      <td>24.382473</td>\n",
       "      <td>14.280000</td>\n",
       "      <td>8.092000</td>\n",
       "      <td>90.300000</td>\n",
       "      <td>40.324000</td>\n",
       "    </tr>\n",
       "    <tr>\n",
       "      <th>max</th>\n",
       "      <td>54.922115</td>\n",
       "      <td>54.915000</td>\n",
       "      <td>34.204000</td>\n",
       "      <td>105.000000</td>\n",
       "      <td>63.444000</td>\n",
       "    </tr>\n",
       "  </tbody>\n",
       "</table>\n",
       "</div>"
      ],
      "text/plain": [
       "              dist           dx           dy            x            y\n",
       "count  2273.000000  2271.000000  2271.000000  2273.000000  2273.000000\n",
       "mean     18.387649     0.124696     0.842978    51.402604    33.157404\n",
       "std       8.120749    17.499210     9.879692    38.015387     9.182643\n",
       "min       0.000000   -47.145000   -42.160000     0.000000     2.856000\n",
       "25%      11.872038   -13.387500    -6.154000    13.020000    26.384000\n",
       "50%      17.511139    -2.205000     0.680000    33.075000    33.320000\n",
       "75%      24.382473    14.280000     8.092000    90.300000    40.324000\n",
       "max      54.922115    54.915000    34.204000   105.000000    63.444000"
      ]
     },
     "execution_count": 23,
     "metadata": {},
     "output_type": "execute_result"
    }
   ],
   "source": [
    "raw_data.describe()"
   ]
  },
  {
   "cell_type": "code",
   "execution_count": 30,
   "metadata": {
    "collapsed": false
   },
   "outputs": [
    {
     "data": {
      "text/plain": [
       "<matplotlib.text.Text at 0x2c7f50a208>"
      ]
     },
     "execution_count": 30,
     "metadata": {},
     "output_type": "execute_result"
    },
    {
     "data": {
      "image/png": "[encoded data removed]",
      "text/plain": [
       "<matplotlib.figure.Figure at 0x2c7f611a58>"
      ]
     },
     "metadata": {},
     "output_type": "display_data"
    }
   ],
   "source": [
    "#This scatter can detect whether having wrong data \n",
    "plt.scatter(raw_data.dist,raw_data.goal,alpha=0.02)\n",
    "plt.xlabel('Distance')\n",
    "plt.ylabel('Goal')"
   ]
  },
  {
   "cell_type": "code",
   "execution_count": 41,
   "metadata": {
    "collapsed": false
   },
   "outputs": [],
   "source": [
    "#for showing better,need to calculate the probability of shoting at the same distance\n",
    "#so divide the distance into 20 sections\n",
    "bins = np.linspace(raw_data.dist.min(),raw_data.dist.max(),20)\n",
    "# to group according to whether in the same section\n",
    "groups = raw_data.groupby(np.digitize(raw_data.dist,bins))\n",
    "#for showing better,need to calculate the probability of shoting at the same section\n",
    "final_data = groups[['dist','goal']].mean()"
   ]
  },
  {
   "cell_type": "code",
   "execution_count": 57,
   "metadata": {
    "collapsed": false
   },
   "outputs": [
    {
     "data": {
      "image/png": "[encoded data removed]",
      "text/plain": [
       "<matplotlib.figure.Figure at 0x2c7ff144e0>"
      ]
     },
     "metadata": {},
     "output_type": "display_data"
    }
   ],
   "source": [
    "plt.plot(final_data.dist,final_data.goal,'bo-')\n",
    "plt.ylim(-0.1,1)\n",
    "plt.xlabel('Distance')\n",
    "plt.ylabel('Probability')\n",
    "plt.savefig('ana_1.png')"
   ]
  },
  {
   "cell_type": "code",
   "execution_count": null,
   "metadata": {
    "collapsed": false
   },
   "outputs": [],
   "source": []
  },
  {
   "cell_type": "code",
   "execution_count": null,
   "metadata": {
    "collapsed": true
   },
   "outputs": [],
   "source": []
  }
 ],
 "metadata": {
  "anaconda-cloud": {},
  "kernelspec": {
   "display_name": "Python [conda env:NEUPython]",
   "language": "python",
   "name": "conda-env-NEUPython-py"
  },
  "language_info": {
   "codemirror_mode": {
    "name": "ipython",
    "version": 3
   },
   "file_extension": ".py",
   "mimetype": "text/x-python",
   "name": "python",
   "nbconvert_exporter": "python",
   "pygments_lexer": "ipython3",
   "version": "3.5.2"
  }
 },
 "nbformat": 4,
 "nbformat_minor": 1
}
