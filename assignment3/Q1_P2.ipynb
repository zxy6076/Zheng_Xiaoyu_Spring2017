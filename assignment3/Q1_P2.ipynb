{
 "cells": [
  {
   "cell_type": "markdown",
   "metadata": {},
   "source": [
    "# Q1_P2\n",
    "### • Use ‘vehicle_collisions’ data set.\n",
    "### • For each borough, find out distribution of each collision scale. (One carinvolved? Two? Three? or more?) (From 2015 to present)\n",
    "### • Display a few rows of the output use df.head().\n",
    "### • Generate a csv output with five columns ('borough', 'one-vehicle', 'twovehicles', 'three-vehicles', 'more-vehicles')\n"
   ]
  },
  {
   "cell_type": "code",
   "execution_count": 73,
   "metadata": {
    "collapsed": true
   },
   "outputs": [],
   "source": [
    "import pandas as pd\n",
    "from pandas import DataFrame"
   ]
  },
  {
   "cell_type": "code",
   "execution_count": 74,
   "metadata": {
    "collapsed": false
   },
   "outputs": [
    {
     "data": {
      "text/html": [
       "<div>\n",
       "<table border=\"1\" class=\"dataframe\">\n",
       "  <thead>\n",
       "    <tr style=\"text-align: right;\">\n",
       "      <th></th>\n",
       "      <th>BOROUGH</th>\n",
       "      <th>VEHICLE 1 TYPE</th>\n",
       "      <th>VEHICLE 2 TYPE</th>\n",
       "      <th>VEHICLE 3 TYPE</th>\n",
       "      <th>VEHICLE 4 TYPE</th>\n",
       "    </tr>\n",
       "  </thead>\n",
       "  <tbody>\n",
       "    <tr>\n",
       "      <th>0</th>\n",
       "      <td>QUEENS</td>\n",
       "      <td>SPORT UTILITY/STATION WAGON</td>\n",
       "      <td>NaN</td>\n",
       "      <td>NaN</td>\n",
       "      <td>NaN</td>\n",
       "    </tr>\n",
       "    <tr>\n",
       "      <th>1</th>\n",
       "      <td>NaN</td>\n",
       "      <td>PASSENGER VEHICLE</td>\n",
       "      <td>NaN</td>\n",
       "      <td>NaN</td>\n",
       "      <td>NaN</td>\n",
       "    </tr>\n",
       "    <tr>\n",
       "      <th>2</th>\n",
       "      <td>BROOKLYN</td>\n",
       "      <td>PASSENGER VEHICLE</td>\n",
       "      <td>UNKNOWN</td>\n",
       "      <td>NaN</td>\n",
       "      <td>NaN</td>\n",
       "    </tr>\n",
       "    <tr>\n",
       "      <th>3</th>\n",
       "      <td>BROOKLYN</td>\n",
       "      <td>BUS</td>\n",
       "      <td>PASSENGER VEHICLE</td>\n",
       "      <td>NaN</td>\n",
       "      <td>NaN</td>\n",
       "    </tr>\n",
       "    <tr>\n",
       "      <th>4</th>\n",
       "      <td>NaN</td>\n",
       "      <td>UNKNOWN</td>\n",
       "      <td>PASSENGER VEHICLE</td>\n",
       "      <td>NaN</td>\n",
       "      <td>NaN</td>\n",
       "    </tr>\n",
       "    <tr>\n",
       "      <th>5</th>\n",
       "      <td>BROOKLYN</td>\n",
       "      <td>PASSENGER VEHICLE</td>\n",
       "      <td>SPORT UTILITY/STATION WAGON</td>\n",
       "      <td>SPORT UTILITY/STATION WAGON</td>\n",
       "      <td>PASSENGER VEHICLE</td>\n",
       "    </tr>\n",
       "  </tbody>\n",
       "</table>\n",
       "</div>"
      ],
      "text/plain": [
       "    BOROUGH               VEHICLE 1 TYPE               VEHICLE 2 TYPE  \\\n",
       "0    QUEENS  SPORT UTILITY/STATION WAGON                          NaN   \n",
       "1       NaN            PASSENGER VEHICLE                          NaN   \n",
       "2  BROOKLYN            PASSENGER VEHICLE                      UNKNOWN   \n",
       "3  BROOKLYN                          BUS            PASSENGER VEHICLE   \n",
       "4       NaN                      UNKNOWN            PASSENGER VEHICLE   \n",
       "5  BROOKLYN            PASSENGER VEHICLE  SPORT UTILITY/STATION WAGON   \n",
       "\n",
       "                VEHICLE 3 TYPE     VEHICLE 4 TYPE  \n",
       "0                          NaN                NaN  \n",
       "1                          NaN                NaN  \n",
       "2                          NaN                NaN  \n",
       "3                          NaN                NaN  \n",
       "4                          NaN                NaN  \n",
       "5  SPORT UTILITY/STATION WAGON  PASSENGER VEHICLE  "
      ]
     },
     "execution_count": 74,
     "metadata": {},
     "output_type": "execute_result"
    }
   ],
   "source": [
    "raw_data = pd.read_csv('Data/vehicle_collisions.csv')\n",
    "# raw_data.head(4)\n",
    "# to get the data columns that we need\n",
    "raw_data = raw_data[['BOROUGH', 'VEHICLE 1 TYPE', 'VEHICLE 2 TYPE', 'VEHICLE 3 TYPE', 'VEHICLE 4 TYPE']]\n",
    "raw_data.head(6)"
   ]
  },
  {
   "cell_type": "code",
   "execution_count": 75,
   "metadata": {
    "collapsed": false
   },
   "outputs": [
    {
     "data": {
      "text/html": [
       "<div>\n",
       "<table border=\"1\" class=\"dataframe\">\n",
       "  <thead>\n",
       "    <tr style=\"text-align: right;\">\n",
       "      <th></th>\n",
       "      <th>BOROUGH</th>\n",
       "      <th>VEHICLE 1 TYPE</th>\n",
       "      <th>VEHICLE 2 TYPE</th>\n",
       "      <th>VEHICLE 3 TYPE</th>\n",
       "      <th>VEHICLE 4 TYPE</th>\n",
       "      <th>VEHICLE COUNT</th>\n",
       "    </tr>\n",
       "  </thead>\n",
       "  <tbody>\n",
       "    <tr>\n",
       "      <th>0</th>\n",
       "      <td>QUEENS</td>\n",
       "      <td>SPORT UTILITY/STATION WAGON</td>\n",
       "      <td>NaN</td>\n",
       "      <td>NaN</td>\n",
       "      <td>NaN</td>\n",
       "      <td>1</td>\n",
       "    </tr>\n",
       "    <tr>\n",
       "      <th>1</th>\n",
       "      <td>NaN</td>\n",
       "      <td>PASSENGER VEHICLE</td>\n",
       "      <td>NaN</td>\n",
       "      <td>NaN</td>\n",
       "      <td>NaN</td>\n",
       "      <td>0</td>\n",
       "    </tr>\n",
       "    <tr>\n",
       "      <th>2</th>\n",
       "      <td>BROOKLYN</td>\n",
       "      <td>PASSENGER VEHICLE</td>\n",
       "      <td>UNKNOWN</td>\n",
       "      <td>NaN</td>\n",
       "      <td>NaN</td>\n",
       "      <td>2</td>\n",
       "    </tr>\n",
       "    <tr>\n",
       "      <th>3</th>\n",
       "      <td>BROOKLYN</td>\n",
       "      <td>BUS</td>\n",
       "      <td>PASSENGER VEHICLE</td>\n",
       "      <td>NaN</td>\n",
       "      <td>NaN</td>\n",
       "      <td>2</td>\n",
       "    </tr>\n",
       "    <tr>\n",
       "      <th>4</th>\n",
       "      <td>NaN</td>\n",
       "      <td>UNKNOWN</td>\n",
       "      <td>PASSENGER VEHICLE</td>\n",
       "      <td>NaN</td>\n",
       "      <td>NaN</td>\n",
       "      <td>1</td>\n",
       "    </tr>\n",
       "  </tbody>\n",
       "</table>\n",
       "</div>"
      ],
      "text/plain": [
       "    BOROUGH               VEHICLE 1 TYPE     VEHICLE 2 TYPE VEHICLE 3 TYPE  \\\n",
       "0    QUEENS  SPORT UTILITY/STATION WAGON                NaN            NaN   \n",
       "1       NaN            PASSENGER VEHICLE                NaN            NaN   \n",
       "2  BROOKLYN            PASSENGER VEHICLE            UNKNOWN            NaN   \n",
       "3  BROOKLYN                          BUS  PASSENGER VEHICLE            NaN   \n",
       "4       NaN                      UNKNOWN  PASSENGER VEHICLE            NaN   \n",
       "\n",
       "  VEHICLE 4 TYPE  VEHICLE COUNT  \n",
       "0            NaN              1  \n",
       "1            NaN              0  \n",
       "2            NaN              2  \n",
       "3            NaN              2  \n",
       "4            NaN              1  "
      ]
     },
     "execution_count": 75,
     "metadata": {},
     "output_type": "execute_result"
    }
   ],
   "source": [
    "# to calculate how many involved vehicle\n",
    "raw_data['VEHICLE COUNT'] = raw_data.count(axis =1)-1\n",
    "raw_data.head()"
   ]
  },
  {
   "cell_type": "code",
   "execution_count": 76,
   "metadata": {
    "collapsed": false
   },
   "outputs": [
    {
     "data": {
      "text/html": [
       "<div>\n",
       "<table border=\"1\" class=\"dataframe\">\n",
       "  <thead>\n",
       "    <tr style=\"text-align: right;\">\n",
       "      <th></th>\n",
       "      <th>BOROUGH</th>\n",
       "      <th>VEHICLE COUNT</th>\n",
       "    </tr>\n",
       "  </thead>\n",
       "  <tbody>\n",
       "    <tr>\n",
       "      <th>0</th>\n",
       "      <td>QUEENS</td>\n",
       "      <td>1</td>\n",
       "    </tr>\n",
       "    <tr>\n",
       "      <th>1</th>\n",
       "      <td>NaN</td>\n",
       "      <td>0</td>\n",
       "    </tr>\n",
       "    <tr>\n",
       "      <th>2</th>\n",
       "      <td>BROOKLYN</td>\n",
       "      <td>2</td>\n",
       "    </tr>\n",
       "  </tbody>\n",
       "</table>\n",
       "</div>"
      ],
      "text/plain": [
       "    BOROUGH  VEHICLE COUNT\n",
       "0    QUEENS              1\n",
       "1       NaN              0\n",
       "2  BROOKLYN              2"
      ]
     },
     "execution_count": 76,
     "metadata": {},
     "output_type": "execute_result"
    }
   ],
   "source": [
    "# keep the columns we need\n",
    "raw_data = raw_data[['BOROUGH', 'VEHICLE COUNT']]\n",
    "raw_data.head(3)"
   ]
  },
  {
   "cell_type": "code",
   "execution_count": 77,
   "metadata": {
    "collapsed": false
   },
   "outputs": [
    {
     "data": {
      "text/html": [
       "<div>\n",
       "<table border=\"1\" class=\"dataframe\">\n",
       "  <thead>\n",
       "    <tr style=\"text-align: right;\">\n",
       "      <th></th>\n",
       "      <th>BOROUGH</th>\n",
       "      <th>VEHICLE COUNT</th>\n",
       "    </tr>\n",
       "  </thead>\n",
       "  <tbody>\n",
       "    <tr>\n",
       "      <th>0</th>\n",
       "      <td>QUEENS</td>\n",
       "      <td>1</td>\n",
       "    </tr>\n",
       "    <tr>\n",
       "      <th>2</th>\n",
       "      <td>BROOKLYN</td>\n",
       "      <td>2</td>\n",
       "    </tr>\n",
       "    <tr>\n",
       "      <th>3</th>\n",
       "      <td>BROOKLYN</td>\n",
       "      <td>2</td>\n",
       "    </tr>\n",
       "    <tr>\n",
       "      <th>4</th>\n",
       "      <td>NaN</td>\n",
       "      <td>1</td>\n",
       "    </tr>\n",
       "    <tr>\n",
       "      <th>5</th>\n",
       "      <td>BROOKLYN</td>\n",
       "      <td>4</td>\n",
       "    </tr>\n",
       "    <tr>\n",
       "      <th>6</th>\n",
       "      <td>QUEENS</td>\n",
       "      <td>3</td>\n",
       "    </tr>\n",
       "  </tbody>\n",
       "</table>\n",
       "</div>"
      ],
      "text/plain": [
       "    BOROUGH  VEHICLE COUNT\n",
       "0    QUEENS              1\n",
       "2  BROOKLYN              2\n",
       "3  BROOKLYN              2\n",
       "4       NaN              1\n",
       "5  BROOKLYN              4\n",
       "6    QUEENS              3"
      ]
     },
     "execution_count": 77,
     "metadata": {},
     "output_type": "execute_result"
    }
   ],
   "source": [
    "# to clean the raw_data deleting 0 in VEHICLE COUNT\n",
    "raw_data = raw_data[raw_data['VEHICLE COUNT'] != 0]\n",
    "raw_data.head(6)"
   ]
  },
  {
   "cell_type": "code",
   "execution_count": 78,
   "metadata": {
    "collapsed": false,
    "scrolled": true
   },
   "outputs": [
    {
     "data": {
      "text/html": [
       "<div>\n",
       "<table border=\"1\" class=\"dataframe\">\n",
       "  <thead>\n",
       "    <tr style=\"text-align: right;\">\n",
       "      <th></th>\n",
       "      <th>BOROUGH</th>\n",
       "      <th>VEHICLE COUNT</th>\n",
       "    </tr>\n",
       "  </thead>\n",
       "  <tbody>\n",
       "    <tr>\n",
       "      <th>0</th>\n",
       "      <td>QUEENS</td>\n",
       "      <td>1</td>\n",
       "    </tr>\n",
       "    <tr>\n",
       "      <th>2</th>\n",
       "      <td>BROOKLYN</td>\n",
       "      <td>2</td>\n",
       "    </tr>\n",
       "    <tr>\n",
       "      <th>3</th>\n",
       "      <td>BROOKLYN</td>\n",
       "      <td>2</td>\n",
       "    </tr>\n",
       "    <tr>\n",
       "      <th>5</th>\n",
       "      <td>BROOKLYN</td>\n",
       "      <td>4</td>\n",
       "    </tr>\n",
       "    <tr>\n",
       "      <th>6</th>\n",
       "      <td>QUEENS</td>\n",
       "      <td>3</td>\n",
       "    </tr>\n",
       "    <tr>\n",
       "      <th>7</th>\n",
       "      <td>BROOKLYN</td>\n",
       "      <td>2</td>\n",
       "    </tr>\n",
       "  </tbody>\n",
       "</table>\n",
       "</div>"
      ],
      "text/plain": [
       "    BOROUGH  VEHICLE COUNT\n",
       "0    QUEENS              1\n",
       "2  BROOKLYN              2\n",
       "3  BROOKLYN              2\n",
       "5  BROOKLYN              4\n",
       "6    QUEENS              3\n",
       "7  BROOKLYN              2"
      ]
     },
     "execution_count": 78,
     "metadata": {},
     "output_type": "execute_result"
    }
   ],
   "source": [
    "# to clean the raw_data deleting NAN in BOROUGH\n",
    "raw_data = raw_data[pd.notnull(raw_data['BOROUGH'])]\n",
    "raw_data.head(6)"
   ]
  },
  {
   "cell_type": "code",
   "execution_count": 79,
   "metadata": {
    "collapsed": false
   },
   "outputs": [
    {
     "data": {
      "text/html": [
       "<div>\n",
       "<table border=\"1\" class=\"dataframe\">\n",
       "  <thead>\n",
       "    <tr style=\"text-align: right;\">\n",
       "      <th></th>\n",
       "      <th>BOROUGH</th>\n",
       "      <th>VEHICLE COUNT</th>\n",
       "    </tr>\n",
       "  </thead>\n",
       "  <tbody>\n",
       "    <tr>\n",
       "      <th>0</th>\n",
       "      <td>QUEENS</td>\n",
       "      <td>1</td>\n",
       "    </tr>\n",
       "    <tr>\n",
       "      <th>2</th>\n",
       "      <td>BROOKLYN</td>\n",
       "      <td>2</td>\n",
       "    </tr>\n",
       "    <tr>\n",
       "      <th>3</th>\n",
       "      <td>BROOKLYN</td>\n",
       "      <td>2</td>\n",
       "    </tr>\n",
       "    <tr>\n",
       "      <th>5</th>\n",
       "      <td>BROOKLYN</td>\n",
       "      <td>3+</td>\n",
       "    </tr>\n",
       "    <tr>\n",
       "      <th>6</th>\n",
       "      <td>QUEENS</td>\n",
       "      <td>3</td>\n",
       "    </tr>\n",
       "    <tr>\n",
       "      <th>7</th>\n",
       "      <td>BROOKLYN</td>\n",
       "      <td>2</td>\n",
       "    </tr>\n",
       "  </tbody>\n",
       "</table>\n",
       "</div>"
      ],
      "text/plain": [
       "    BOROUGH VEHICLE COUNT\n",
       "0    QUEENS             1\n",
       "2  BROOKLYN             2\n",
       "3  BROOKLYN             2\n",
       "5  BROOKLYN            3+\n",
       "6    QUEENS             3\n",
       "7  BROOKLYN             2"
      ]
     },
     "execution_count": 79,
     "metadata": {},
     "output_type": "execute_result"
    }
   ],
   "source": [
    "# raw_data.columns.dtype   dtype('O')\n",
    "# change datatype and make VEHICLE COUNT >3 become 3+\n",
    "raw_data['VEHICLE COUNT'] =raw_data['VEHICLE COUNT'].apply(lambda x : str(x) if x < 4 else '3+')\n",
    "raw_data.head(6)"
   ]
  },
  {
   "cell_type": "code",
   "execution_count": 80,
   "metadata": {
    "collapsed": true
   },
   "outputs": [],
   "source": [
    "# to groupt borough and vehicle count, then calculate the occurance of each count in each borough\n",
    "raw_data2 = raw_data.groupby(['BOROUGH','VEHICLE COUNT'],as_index=False).size().reset_index()"
   ]
  },
  {
   "cell_type": "code",
   "execution_count": 81,
   "metadata": {
    "collapsed": false
   },
   "outputs": [
    {
     "data": {
      "text/html": [
       "<div>\n",
       "<table border=\"1\" class=\"dataframe\">\n",
       "  <thead>\n",
       "    <tr style=\"text-align: right;\">\n",
       "      <th></th>\n",
       "      <th>BOROUGH</th>\n",
       "      <th>VEHICLE COUNT</th>\n",
       "      <th>0</th>\n",
       "    </tr>\n",
       "  </thead>\n",
       "  <tbody>\n",
       "    <tr>\n",
       "      <th>0</th>\n",
       "      <td>BRONX</td>\n",
       "      <td>1</td>\n",
       "      <td>8627</td>\n",
       "    </tr>\n",
       "    <tr>\n",
       "      <th>1</th>\n",
       "      <td>BRONX</td>\n",
       "      <td>2</td>\n",
       "      <td>34385</td>\n",
       "    </tr>\n",
       "    <tr>\n",
       "      <th>2</th>\n",
       "      <td>BRONX</td>\n",
       "      <td>3</td>\n",
       "      <td>1962</td>\n",
       "    </tr>\n",
       "    <tr>\n",
       "      <th>3</th>\n",
       "      <td>BRONX</td>\n",
       "      <td>3+</td>\n",
       "      <td>625</td>\n",
       "    </tr>\n",
       "    <tr>\n",
       "      <th>4</th>\n",
       "      <td>BROOKLYN</td>\n",
       "      <td>1</td>\n",
       "      <td>17375</td>\n",
       "    </tr>\n",
       "    <tr>\n",
       "      <th>5</th>\n",
       "      <td>BROOKLYN</td>\n",
       "      <td>2</td>\n",
       "      <td>80207</td>\n",
       "    </tr>\n",
       "  </tbody>\n",
       "</table>\n",
       "</div>"
      ],
      "text/plain": [
       "    BOROUGH VEHICLE COUNT      0\n",
       "0     BRONX             1   8627\n",
       "1     BRONX             2  34385\n",
       "2     BRONX             3   1962\n",
       "3     BRONX            3+    625\n",
       "4  BROOKLYN             1  17375\n",
       "5  BROOKLYN             2  80207"
      ]
     },
     "execution_count": 81,
     "metadata": {},
     "output_type": "execute_result"
    }
   ],
   "source": [
    "raw_data2 .head(6)"
   ]
  },
  {
   "cell_type": "code",
   "execution_count": 84,
   "metadata": {
    "collapsed": true
   },
   "outputs": [],
   "source": [
    "# to use Borough as index,vehicle count as columns\n",
    "raw_data3 = raw_data2.pivot(index='BOROUGH',columns='VEHICLE COUNT',values=0)"
   ]
  },
  {
   "cell_type": "code",
   "execution_count": 85,
   "metadata": {
    "collapsed": false
   },
   "outputs": [
    {
     "data": {
      "text/html": [
       "<div>\n",
       "<table border=\"1\" class=\"dataframe\">\n",
       "  <thead>\n",
       "    <tr style=\"text-align: right;\">\n",
       "      <th>VEHICLE COUNT</th>\n",
       "      <th>1</th>\n",
       "      <th>2</th>\n",
       "      <th>3</th>\n",
       "      <th>3+</th>\n",
       "    </tr>\n",
       "    <tr>\n",
       "      <th>BOROUGH</th>\n",
       "      <th></th>\n",
       "      <th></th>\n",
       "      <th></th>\n",
       "      <th></th>\n",
       "    </tr>\n",
       "  </thead>\n",
       "  <tbody>\n",
       "    <tr>\n",
       "      <th>BRONX</th>\n",
       "      <td>8627</td>\n",
       "      <td>34385</td>\n",
       "      <td>1962</td>\n",
       "      <td>625</td>\n",
       "    </tr>\n",
       "    <tr>\n",
       "      <th>BROOKLYN</th>\n",
       "      <td>17375</td>\n",
       "      <td>80207</td>\n",
       "      <td>4980</td>\n",
       "      <td>1612</td>\n",
       "    </tr>\n",
       "    <tr>\n",
       "      <th>MANHATTAN</th>\n",
       "      <td>13318</td>\n",
       "      <td>66958</td>\n",
       "      <td>2024</td>\n",
       "      <td>501</td>\n",
       "    </tr>\n",
       "    <tr>\n",
       "      <th>QUEENS</th>\n",
       "      <td>12962</td>\n",
       "      <td>70260</td>\n",
       "      <td>4498</td>\n",
       "      <td>1420</td>\n",
       "    </tr>\n",
       "    <tr>\n",
       "      <th>STATEN ISLAND</th>\n",
       "      <td>2343</td>\n",
       "      <td>10676</td>\n",
       "      <td>759</td>\n",
       "      <td>165</td>\n",
       "    </tr>\n",
       "  </tbody>\n",
       "</table>\n",
       "</div>"
      ],
      "text/plain": [
       "VEHICLE COUNT      1      2     3    3+\n",
       "BOROUGH                                \n",
       "BRONX           8627  34385  1962   625\n",
       "BROOKLYN       17375  80207  4980  1612\n",
       "MANHATTAN      13318  66958  2024   501\n",
       "QUEENS         12962  70260  4498  1420\n",
       "STATEN ISLAND   2343  10676   759   165"
      ]
     },
     "execution_count": 85,
     "metadata": {},
     "output_type": "execute_result"
    }
   ],
   "source": [
    "raw_data3"
   ]
  },
  {
   "cell_type": "code",
   "execution_count": 86,
   "metadata": {
    "collapsed": false
   },
   "outputs": [
    {
     "data": {
      "text/html": [
       "<div>\n",
       "<table border=\"1\" class=\"dataframe\">\n",
       "  <thead>\n",
       "    <tr style=\"text-align: right;\">\n",
       "      <th></th>\n",
       "      <th>ONE_VEHICLE_INVOLVED</th>\n",
       "      <th>TWO_VEHICLE_INVOLVED</th>\n",
       "      <th>THREE_VEHICLE_INVOLVED</th>\n",
       "      <th>MORE_VEHICLE_INVOLVED</th>\n",
       "    </tr>\n",
       "    <tr>\n",
       "      <th>BOROUGH</th>\n",
       "      <th></th>\n",
       "      <th></th>\n",
       "      <th></th>\n",
       "      <th></th>\n",
       "    </tr>\n",
       "  </thead>\n",
       "  <tbody>\n",
       "    <tr>\n",
       "      <th>BRONX</th>\n",
       "      <td>8627</td>\n",
       "      <td>34385</td>\n",
       "      <td>1962</td>\n",
       "      <td>625</td>\n",
       "    </tr>\n",
       "    <tr>\n",
       "      <th>BROOKLYN</th>\n",
       "      <td>17375</td>\n",
       "      <td>80207</td>\n",
       "      <td>4980</td>\n",
       "      <td>1612</td>\n",
       "    </tr>\n",
       "    <tr>\n",
       "      <th>MANHATTAN</th>\n",
       "      <td>13318</td>\n",
       "      <td>66958</td>\n",
       "      <td>2024</td>\n",
       "      <td>501</td>\n",
       "    </tr>\n",
       "    <tr>\n",
       "      <th>QUEENS</th>\n",
       "      <td>12962</td>\n",
       "      <td>70260</td>\n",
       "      <td>4498</td>\n",
       "      <td>1420</td>\n",
       "    </tr>\n",
       "    <tr>\n",
       "      <th>STATEN ISLAND</th>\n",
       "      <td>2343</td>\n",
       "      <td>10676</td>\n",
       "      <td>759</td>\n",
       "      <td>165</td>\n",
       "    </tr>\n",
       "  </tbody>\n",
       "</table>\n",
       "</div>"
      ],
      "text/plain": [
       "               ONE_VEHICLE_INVOLVED  TWO_VEHICLE_INVOLVED  \\\n",
       "BOROUGH                                                     \n",
       "BRONX                          8627                 34385   \n",
       "BROOKLYN                      17375                 80207   \n",
       "MANHATTAN                     13318                 66958   \n",
       "QUEENS                        12962                 70260   \n",
       "STATEN ISLAND                  2343                 10676   \n",
       "\n",
       "               THREE_VEHICLE_INVOLVED  MORE_VEHICLE_INVOLVED  \n",
       "BOROUGH                                                       \n",
       "BRONX                            1962                    625  \n",
       "BROOKLYN                         4980                   1612  \n",
       "MANHATTAN                        2024                    501  \n",
       "QUEENS                           4498                   1420  \n",
       "STATEN ISLAND                     759                    165  "
      ]
     },
     "execution_count": 86,
     "metadata": {},
     "output_type": "execute_result"
    }
   ],
   "source": [
    "# change thre columns name\n",
    "raw_data3.columns = ['ONE_VEHICLE_INVOLVED', 'TWO_VEHICLE_INVOLVED', 'THREE_VEHICLE_INVOLVED', 'MORE_VEHICLE_INVOLVED']\n",
    "raw_data3"
   ]
  },
  {
   "cell_type": "code",
   "execution_count": 87,
   "metadata": {
    "collapsed": false
   },
   "outputs": [
    {
     "data": {
      "text/html": [
       "<div>\n",
       "<table border=\"1\" class=\"dataframe\">\n",
       "  <thead>\n",
       "    <tr style=\"text-align: right;\">\n",
       "      <th></th>\n",
       "      <th>BOROUGH</th>\n",
       "      <th>ONE_VEHICLE_INVOLVED</th>\n",
       "      <th>TWO_VEHICLE_INVOLVED</th>\n",
       "      <th>THREE_VEHICLE_INVOLVED</th>\n",
       "      <th>MORE_VEHICLE_INVOLVED</th>\n",
       "    </tr>\n",
       "  </thead>\n",
       "  <tbody>\n",
       "    <tr>\n",
       "      <th>0</th>\n",
       "      <td>BRONX</td>\n",
       "      <td>8627</td>\n",
       "      <td>34385</td>\n",
       "      <td>1962</td>\n",
       "      <td>625</td>\n",
       "    </tr>\n",
       "    <tr>\n",
       "      <th>1</th>\n",
       "      <td>BROOKLYN</td>\n",
       "      <td>17375</td>\n",
       "      <td>80207</td>\n",
       "      <td>4980</td>\n",
       "      <td>1612</td>\n",
       "    </tr>\n",
       "    <tr>\n",
       "      <th>2</th>\n",
       "      <td>MANHATTAN</td>\n",
       "      <td>13318</td>\n",
       "      <td>66958</td>\n",
       "      <td>2024</td>\n",
       "      <td>501</td>\n",
       "    </tr>\n",
       "    <tr>\n",
       "      <th>3</th>\n",
       "      <td>QUEENS</td>\n",
       "      <td>12962</td>\n",
       "      <td>70260</td>\n",
       "      <td>4498</td>\n",
       "      <td>1420</td>\n",
       "    </tr>\n",
       "    <tr>\n",
       "      <th>4</th>\n",
       "      <td>STATEN ISLAND</td>\n",
       "      <td>2343</td>\n",
       "      <td>10676</td>\n",
       "      <td>759</td>\n",
       "      <td>165</td>\n",
       "    </tr>\n",
       "  </tbody>\n",
       "</table>\n",
       "</div>"
      ],
      "text/plain": [
       "         BOROUGH  ONE_VEHICLE_INVOLVED  TWO_VEHICLE_INVOLVED  \\\n",
       "0          BRONX                  8627                 34385   \n",
       "1       BROOKLYN                 17375                 80207   \n",
       "2      MANHATTAN                 13318                 66958   \n",
       "3         QUEENS                 12962                 70260   \n",
       "4  STATEN ISLAND                  2343                 10676   \n",
       "\n",
       "   THREE_VEHICLE_INVOLVED  MORE_VEHICLE_INVOLVED  \n",
       "0                    1962                    625  \n",
       "1                    4980                   1612  \n",
       "2                    2024                    501  \n",
       "3                    4498                   1420  \n",
       "4                     759                    165  "
      ]
     },
     "execution_count": 87,
     "metadata": {},
     "output_type": "execute_result"
    }
   ],
   "source": [
    "final_data = raw_data3.reset_index()\n",
    "final_data"
   ]
  },
  {
   "cell_type": "code",
   "execution_count": 89,
   "metadata": {
    "collapsed": false
   },
   "outputs": [],
   "source": [
    "# to output the result\n",
    "final_data.to_csv('Output/Q1_P2.csv',index = False,header=True)"
   ]
  },
  {
   "cell_type": "code",
   "execution_count": null,
   "metadata": {
    "collapsed": true
   },
   "outputs": [],
   "source": []
  }
 ],
 "metadata": {
  "kernelspec": {
   "display_name": "Python [conda env:NEUPython]",
   "language": "python",
   "name": "conda-env-NEUPython-py"
  },
  "language_info": {
   "codemirror_mode": {
    "name": "ipython",
    "version": 3
   },
   "file_extension": ".py",
   "mimetype": "text/x-python",
   "name": "python",
   "nbconvert_exporter": "python",
   "pygments_lexer": "ipython3",
   "version": "3.5.2"
  }
 },
 "nbformat": 4,
 "nbformat_minor": 1
}
